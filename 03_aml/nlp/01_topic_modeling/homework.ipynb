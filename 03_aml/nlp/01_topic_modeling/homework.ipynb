{
 "cells": [
  {
   "cell_type": "code",
   "execution_count": null,
   "id": "AIBT63HBkXPU",
   "metadata": {
    "colab": {
     "base_uri": "https://localhost:8080/"
    },
    "id": "AIBT63HBkXPU",
    "outputId": "e0bc1489-d9db-41fb-b67d-64ed4b54b2b6"
   },
   "outputs": [
    {
     "name": "stdout",
     "output_type": "stream",
     "text": [
      "Requirement already satisfied: pymorphy2 in /usr/local/lib/python3.7/dist-packages (0.9.1)\n",
      "Requirement already satisfied: pymorphy2-dicts-ru<3.0,>=2.4 in /usr/local/lib/python3.7/dist-packages (from pymorphy2) (2.4.417127.4579844)\n",
      "Requirement already satisfied: dawg-python>=0.7.1 in /usr/local/lib/python3.7/dist-packages (from pymorphy2) (0.7.2)\n",
      "Requirement already satisfied: docopt>=0.6 in /usr/local/lib/python3.7/dist-packages (from pymorphy2) (0.6.2)\n"
     ]
    }
   ],
   "source": [
    "!pip install pymorphy2"
   ]
  },
  {
   "cell_type": "code",
   "execution_count": null,
   "id": "d0b99024",
   "metadata": {
    "colab": {
     "base_uri": "https://localhost:8080/"
    },
    "id": "d0b99024",
    "outputId": "e931e0b2-0e94-48aa-abf2-d08d21c6e182"
   },
   "outputs": [
    {
     "name": "stdout",
     "output_type": "stream",
     "text": [
      "[nltk_data] Downloading package punkt to /root/nltk_data...\n",
      "[nltk_data]   Package punkt is already up-to-date!\n",
      "[nltk_data] Downloading package stopwords to /root/nltk_data...\n",
      "[nltk_data]   Package stopwords is already up-to-date!\n",
      "Drive already mounted at /content/drive; to attempt to forcibly remount, call drive.mount(\"/content/drive\", force_remount=True).\n",
      "Populating the interactive namespace from numpy and matplotlib\n"
     ]
    }
   ],
   "source": [
    "import json\n",
    "\n",
    "import bz2\n",
    "import re\n",
    "from tqdm.notebook import tqdm\n",
    "from collections import Counter\n",
    "import pymorphy2\n",
    "\n",
    "import pandas as pd\n",
    "import numpy as np\n",
    "import nltk\n",
    "nltk.download('punkt')\n",
    "nltk.download('stopwords')\n",
    "import matplotlib.pyplot as plt\n",
    "import seaborn as sns\n",
    "from sklearn.feature_extraction.text import TfidfVectorizer, CountVectorizer, TfidfTransformer\n",
    "from sklearn.model_selection import train_test_split\n",
    "from sklearn.metrics import f1_score, accuracy_score, confusion_matrix\n",
    "from sklearn.preprocessing import StandardScaler\n",
    "from sklearn.decomposition import TruncatedSVD, LatentDirichletAllocation\n",
    "from sklearn.ensemble import RandomForestClassifier\n",
    "from sklearn.pipeline import Pipeline\n",
    "from gensim.corpora import Dictionary\n",
    "from gensim.models import TfidfModel, lsimodel\n",
    "from gensim import similarities\n",
    "\n",
    "%matplotlib inline\n",
    "%pylab inline"
   ]
  },
  {
   "cell_type": "code",
   "execution_count": null,
   "id": "6d6b7c65",
   "metadata": {
    "colab": {
     "base_uri": "https://localhost:8080/",
     "height": 49,
     "referenced_widgets": [
      "f38d3adb3e7c4797beec874066ccd8eb",
      "72d64d39a42146a19e1d373b6078b281",
      "652418a65f4e4fd8b9b2f60d8f5edda0",
      "a9ad1c47ba4744eaaad443059742db35",
      "2f70f53cb8b3495eb84b7463456a4340",
      "c95311ef48f4406095b304778a95aecb",
      "31fb0b358fa6469e852a4061f1a70ca2",
      "dbc753abddc8445991a86435910fbdae",
      "92016471275947f7af5c1ef166e86611",
      "d00ef25ddd2841f2ad7f71998ef5fe7f",
      "ce46f2c180d14c6bacdfd764dceef258"
     ]
    },
    "id": "6d6b7c65",
    "outputId": "eba06094-2885-4e5f-aca4-d5346a686f57"
   },
   "outputs": [
    {
     "data": {
      "application/vnd.jupyter.widget-view+json": {
       "model_id": "f38d3adb3e7c4797beec874066ccd8eb",
       "version_major": 2,
       "version_minor": 0
      },
      "text/plain": [
       "0it [00:00, ?it/s]"
      ]
     },
     "metadata": {},
     "output_type": "display_data"
    }
   ],
   "source": [
    "responses = []\n",
    "with bz2.BZ2File('banki_responses.json.bz2', 'r') as thefile:\n",
    "    for row in tqdm(thefile):\n",
    "        resp = json.loads(row)\n",
    "        if not resp['rating_not_checked'] and (len(resp['text'].split()) > 0):\n",
    "            responses.append(resp)"
   ]
  },
  {
   "cell_type": "markdown",
   "id": "93224305",
   "metadata": {
    "id": "93224305"
   },
   "source": [
    "# Домашнее задание по NLP # 1 [100 баллов]\n",
    "\n",
    "Классификация по тональности\n",
    "\n",
    "В этом домашнем задании необходимо классифицировать по тональности отзывы на банки с сайта banki.ru.\n",
    "\n",
    "Данные содержат непосредственно тексты отзывов, некоторую дополнительную информацию, а также оценку по шкале от 1 до 5. Тексты хранятся в json-ах в массиве responses."
   ]
  },
  {
   "cell_type": "code",
   "execution_count": null,
   "id": "63c79a3e",
   "metadata": {
    "colab": {
     "base_uri": "https://localhost:8080/",
     "height": 206
    },
    "id": "63c79a3e",
    "outputId": "4e5c036c-725f-4d49-8e4e-8083082d7edc"
   },
   "outputs": [
    {
     "data": {
      "text/html": [
       "<div>\n",
       "<style scoped>\n",
       "    .dataframe tbody tr th:only-of-type {\n",
       "        vertical-align: middle;\n",
       "    }\n",
       "\n",
       "    .dataframe tbody tr th {\n",
       "        vertical-align: top;\n",
       "    }\n",
       "\n",
       "    .dataframe thead th {\n",
       "        text-align: right;\n",
       "    }\n",
       "</style>\n",
       "<table border=\"1\" class=\"dataframe\">\n",
       "  <thead>\n",
       "    <tr style=\"text-align: right;\">\n",
       "      <th></th>\n",
       "      <th>city</th>\n",
       "      <th>rating_not_checked</th>\n",
       "      <th>title</th>\n",
       "      <th>num_comments</th>\n",
       "      <th>bank_license</th>\n",
       "      <th>author</th>\n",
       "      <th>bank_name</th>\n",
       "      <th>datetime</th>\n",
       "      <th>text</th>\n",
       "      <th>rating_grade</th>\n",
       "    </tr>\n",
       "  </thead>\n",
       "  <tbody>\n",
       "    <tr>\n",
       "      <th>0</th>\n",
       "      <td>г. Москва</td>\n",
       "      <td>False</td>\n",
       "      <td>Жалоба</td>\n",
       "      <td>0</td>\n",
       "      <td>лицензия № 2562</td>\n",
       "      <td>uhnov1</td>\n",
       "      <td>Бинбанк</td>\n",
       "      <td>2015-06-08 12:50:54</td>\n",
       "      <td>Добрый день! Я не являюсь клиентом банка и пор...</td>\n",
       "      <td>NaN</td>\n",
       "    </tr>\n",
       "    <tr>\n",
       "      <th>1</th>\n",
       "      <td>г. Новосибирск</td>\n",
       "      <td>False</td>\n",
       "      <td>Не могу пользоваться услугой Сбербанк он-лайн</td>\n",
       "      <td>0</td>\n",
       "      <td>лицензия № 1481</td>\n",
       "      <td>Foryou</td>\n",
       "      <td>Сбербанк России</td>\n",
       "      <td>2015-06-08 11:09:57</td>\n",
       "      <td>Доброго дня! Являюсь держателем зарплатной кар...</td>\n",
       "      <td>NaN</td>\n",
       "    </tr>\n",
       "    <tr>\n",
       "      <th>2</th>\n",
       "      <td>г. Москва</td>\n",
       "      <td>False</td>\n",
       "      <td>Двойное списание за один товар.</td>\n",
       "      <td>1</td>\n",
       "      <td>лицензия № 2562</td>\n",
       "      <td>Vladimir84</td>\n",
       "      <td>Бинбанк</td>\n",
       "      <td>2015-06-05 20:14:28</td>\n",
       "      <td>Здравствуйте!  Дублирую свое заявление от 03.0...</td>\n",
       "      <td>NaN</td>\n",
       "    </tr>\n",
       "    <tr>\n",
       "      <th>3</th>\n",
       "      <td>г. Ставрополь</td>\n",
       "      <td>False</td>\n",
       "      <td>Меняют проценты комиссии  не предупредив и не ...</td>\n",
       "      <td>2</td>\n",
       "      <td>лицензия № 1481</td>\n",
       "      <td>643609</td>\n",
       "      <td>Сбербанк России</td>\n",
       "      <td>2015-06-05 13:51:01</td>\n",
       "      <td>Добрый день!! Я открыл расчетный счет в СберБа...</td>\n",
       "      <td>NaN</td>\n",
       "    </tr>\n",
       "    <tr>\n",
       "      <th>4</th>\n",
       "      <td>г. Челябинск</td>\n",
       "      <td>False</td>\n",
       "      <td>Верните денежные средства за страховку</td>\n",
       "      <td>1</td>\n",
       "      <td>лицензия № 2766</td>\n",
       "      <td>anfisa-2003</td>\n",
       "      <td>ОТП Банк</td>\n",
       "      <td>2015-06-05 10:58:12</td>\n",
       "      <td>04.03.2015 г. взяла кредит в вашем банке, заяв...</td>\n",
       "      <td>NaN</td>\n",
       "    </tr>\n",
       "  </tbody>\n",
       "</table>\n",
       "</div>"
      ],
      "text/plain": [
       "             city  ...  rating_grade\n",
       "0       г. Москва  ...           NaN\n",
       "1  г. Новосибирск  ...           NaN\n",
       "2       г. Москва  ...           NaN\n",
       "3   г. Ставрополь  ...           NaN\n",
       "4    г. Челябинск  ...           NaN\n",
       "\n",
       "[5 rows x 10 columns]"
      ]
     },
     "execution_count": 4,
     "metadata": {},
     "output_type": "execute_result"
    }
   ],
   "source": [
    "df_banki = pd.DataFrame(responses)\n",
    "df_banki[:5]"
   ]
  },
  {
   "cell_type": "markdown",
   "id": "fbf6bf1d",
   "metadata": {
    "id": "fbf6bf1d"
   },
   "source": [
    "## Часть 1. Анализ текстов [40/100]\n",
    "### 1.1 Подсчет количества отзывов в разных городах и на разные банки "
   ]
  },
  {
   "cell_type": "code",
   "execution_count": null,
   "id": "6d2dba03",
   "metadata": {
    "colab": {
     "base_uri": "https://localhost:8080/",
     "height": 394
    },
    "id": "6d2dba03",
    "outputId": "2e2e28e5-d239-4164-9e50-c90dc24b7b1c"
   },
   "outputs": [
    {
     "data": {
      "text/html": [
       "<div>\n",
       "<style scoped>\n",
       "    .dataframe tbody tr th:only-of-type {\n",
       "        vertical-align: middle;\n",
       "    }\n",
       "\n",
       "    .dataframe tbody tr th {\n",
       "        vertical-align: top;\n",
       "    }\n",
       "\n",
       "    .dataframe thead th {\n",
       "        text-align: right;\n",
       "    }\n",
       "</style>\n",
       "<table border=\"1\" class=\"dataframe\">\n",
       "  <thead>\n",
       "    <tr style=\"text-align: right;\">\n",
       "      <th></th>\n",
       "      <th></th>\n",
       "      <th>message_count</th>\n",
       "    </tr>\n",
       "    <tr>\n",
       "      <th>bank_name</th>\n",
       "      <th>city</th>\n",
       "      <th></th>\n",
       "    </tr>\n",
       "  </thead>\n",
       "  <tbody>\n",
       "    <tr>\n",
       "      <th>Сбербанк России</th>\n",
       "      <th>г. Москва</th>\n",
       "      <td>8146</td>\n",
       "    </tr>\n",
       "    <tr>\n",
       "      <th>Альфа-Банк</th>\n",
       "      <th>г. Москва</th>\n",
       "      <td>3871</td>\n",
       "    </tr>\n",
       "    <tr>\n",
       "      <th>Русский Стандарт</th>\n",
       "      <th>г. Москва</th>\n",
       "      <td>2801</td>\n",
       "    </tr>\n",
       "    <tr>\n",
       "      <th>ВТБ 24</th>\n",
       "      <th>г. Москва</th>\n",
       "      <td>2714</td>\n",
       "    </tr>\n",
       "    <tr>\n",
       "      <th>Сбербанк России</th>\n",
       "      <th>г. Санкт-Петербург</th>\n",
       "      <td>2434</td>\n",
       "    </tr>\n",
       "    <tr>\n",
       "      <th>Московский Кредитный Банк</th>\n",
       "      <th>г. Москва</th>\n",
       "      <td>2348</td>\n",
       "    </tr>\n",
       "    <tr>\n",
       "      <th>Тинькофф Банк</th>\n",
       "      <th>г. Москва</th>\n",
       "      <td>2339</td>\n",
       "    </tr>\n",
       "    <tr>\n",
       "      <th>Хоум Кредит Банк</th>\n",
       "      <th>г. Москва</th>\n",
       "      <td>2143</td>\n",
       "    </tr>\n",
       "    <tr>\n",
       "      <th>Национальный Банк «Траст»</th>\n",
       "      <th>г. Москва</th>\n",
       "      <td>1654</td>\n",
       "    </tr>\n",
       "    <tr>\n",
       "      <th>Райффайзенбанк</th>\n",
       "      <th>г. Москва</th>\n",
       "      <td>1426</td>\n",
       "    </tr>\n",
       "  </tbody>\n",
       "</table>\n",
       "</div>"
      ],
      "text/plain": [
       "                                              message_count\n",
       "bank_name                 city                             \n",
       "Сбербанк России           г. Москва                    8146\n",
       "Альфа-Банк                г. Москва                    3871\n",
       "Русский Стандарт          г. Москва                    2801\n",
       "ВТБ 24                    г. Москва                    2714\n",
       "Сбербанк России           г. Санкт-Петербург           2434\n",
       "Московский Кредитный Банк г. Москва                    2348\n",
       "Тинькофф Банк             г. Москва                    2339\n",
       "Хоум Кредит Банк          г. Москва                    2143\n",
       "Национальный Банк «Траст» г. Москва                    1654\n",
       "Райффайзенбанк            г. Москва                    1426"
      ]
     },
     "execution_count": 5,
     "metadata": {},
     "output_type": "execute_result"
    }
   ],
   "source": [
    "df_banki_message_stat = df_banki.groupby(['bank_name', 'city']).count().reindex(columns=['bank_license'])\n",
    "df_banki_message_stat.rename(columns={'bank_license': 'message_count'}, inplace=True)\n",
    "df_banki_message_stat = df_banki_message_stat.sort_values('message_count', ascending=False)\n",
    "df_banki_message_stat[:10]"
   ]
  },
  {
   "cell_type": "markdown",
   "id": "1e9ed872",
   "metadata": {
    "id": "1e9ed872"
   },
   "source": [
    "### 1.2 Постройте гистограмы длин слов в символах и в словах"
   ]
  },
  {
   "cell_type": "code",
   "execution_count": null,
   "id": "913b9587",
   "metadata": {
    "id": "913b9587"
   },
   "outputs": [],
   "source": [
    "class TextPrepare:\n",
    "\n",
    "    def __init__(self, pymorphy, stopwords=None, vocab=None):\n",
    "        \"\"\" Подготовка и операции с текстом\n",
    "\n",
    "        Параметры\n",
    "        ---------\n",
    "        pymorphy : MorphAnalyzer\n",
    "          Экземпляр MorphAnalyzer для лемматизации и поиска тегов\n",
    "        stopwords : list\n",
    "          Список стоп-слов, по умолчанию None\n",
    "        vocab : dict\n",
    "          Словарь в формате {слово: {'lemma': лемма, 'pos': pos-тег}}\n",
    "          В данном словаре класс будет искать леммы и pos-теги.\n",
    "          Если слова в словаре не будет, то поиск будет осуществляться через\n",
    "          pymorphy. И неизвестное слово будет добавлено в словарь.\n",
    "          Можно задать пустой словарь, тогда он будет наполняться заново.\n",
    "        \"\"\"\n",
    "\n",
    "        assert isinstance(pymorphy, pymorphy2.MorphAnalyzer), \"pymorphy доджен быть объектом pymorphy2.MorphAnalyzer\"\n",
    "        if stopwords is not None:\n",
    "            assert isinstance(stopwords, list), \"stopwords должен быть объектом list\"\n",
    "        self._stopwords = stopwords\n",
    "        self._pymorphy = pymorphy\n",
    "        if not isinstance(vocab, dict):\n",
    "            self._vocab = {}\n",
    "        else:\n",
    "            self._vocab = vocab\n",
    "\n",
    "\n",
    "    def _lemmatize(self, word):\n",
    "        \"\"\"Лемматизация и поиск pos-тега с помощью pymorphy\"\"\"\n",
    "        parse = self._pymorphy.parse(word)[0]\n",
    "        lemma = parse.normal_form\n",
    "        pos = parse.tag.POS\n",
    "        return lemma, pos\n",
    "\n",
    "\n",
    "    def fit(self, text):\n",
    "        \"\"\" Подготовка текста\n",
    "        \"\"\"\n",
    "        text = text.lower().strip()\n",
    "        text = re.sub(r'[^А-Яа-яA-Za-z ]', ' ', text)\n",
    "        self._tokens = nltk.tokenize.word_tokenize(text, language='russian')\n",
    "        del(text)\n",
    "        self._is_fitted = True\n",
    "\n",
    "\n",
    "    def _get_tokens_and_pos(self, lemmatize=False, stopwords=False, pos_enable=False):\n",
    "        \"\"\" Получение токенов и pos-тегов\n",
    "\n",
    "        Параметры\n",
    "        ---------\n",
    "        lemmatize : bool\n",
    "          Флаг лемматизации. Если True, будет выполнена лемматизация.\n",
    "          По умолчанию False.\n",
    "        stopwords : bool\n",
    "          Флаг фильтрации по стоп-словам. Если True, будет выполнена фильтрация.\n",
    "          По умолчанию False.\n",
    "        pos_enable : bool\n",
    "          Флаг поиска pos-тегов. Если True, в выдачу будет добавлен pos-тег.\n",
    "          По умолчанию False.\n",
    "\n",
    "\n",
    "        Результат\n",
    "        ---------\n",
    "        tokens : list\n",
    "          Если pos_enable = False, формат [токен1, токен2, ... ]\n",
    "          Если pos_enable = True, формат [(токен1, pos1), (токен2, pos2), ... ]\n",
    "        \"\"\" \n",
    "\n",
    "        if not self._is_fitted:\n",
    "            raise Exception(\"Требуется предварительно запустить метод fit\")\n",
    "\n",
    "        tokens = self._tokens \n",
    "\n",
    "        if stopwords and self._stopwords is None:\n",
    "            raise ValueError(\"Не задан список стоп-слов\")\n",
    "        \n",
    "        if stopwords:\n",
    "            tokens = [token for token in self._tokens if token not in self._stopwords]\n",
    "\n",
    "        if lemmatize or pos_enable:\n",
    "\n",
    "            tokens_lemm = []\n",
    "            for token in tokens:\n",
    "                if token not in self._vocab:\n",
    "                    lemma, pos = self._lemmatize(token)\n",
    "                    self._vocab[token] = {'lemma': lemma, 'pos': pos}\n",
    "                if pos_enable:\n",
    "                    tokens_lemm.append((self._vocab[token]['lemma'], \n",
    "                                        self._vocab[token]['pos']))\n",
    "                else:\n",
    "                    tokens_lemm.append(self._vocab[token]['lemma'])\n",
    "\n",
    "            tokens = tokens_lemm\n",
    "\n",
    "        return tokens\n",
    "    \n",
    "    \n",
    "    def get_tokens(self, lemmatize=False, stopwords=False):\n",
    "        \"\"\" Получение токенов\n",
    "\n",
    "        Параметры\n",
    "        ---------\n",
    "        emmatize : bool\n",
    "          Флаг лемматизации. Если True, будет выполнена лемматизация.\n",
    "          По умолчанию False.\n",
    "        stopwords : bool\n",
    "          Флаг фильтрации по стоп-словам. Если True, будет выполнена фильтрация.\n",
    "          По умолчанию False.\n",
    "\n",
    "        Результат\n",
    "        ---------\n",
    "        tokens : list\n",
    "          Формат [токен1, токен2, ... ]\n",
    "        \"\"\"\n",
    "        tokens = self._get_tokens_and_pos(lemmatize=lemmatize, \n",
    "                                          stopwords=stopwords, pos_enable=False)\n",
    "        return tokens\n",
    "\n",
    "\n",
    "    def get_pos_tags(self, tag_filter=None, stopwords=False):\n",
    "        \"\"\" Получение токенов с pos-тегами. Токены будут лемматизированы.\n",
    "\n",
    "        Параметры\n",
    "        ---------\n",
    "        tag_filter : str\n",
    "          POS-тег для фильтрации выдачи. По умолчанию None.\n",
    "        stopwords : bool\n",
    "          Флаг фильтрации по стоп-словам. Если True, будет выполнена фильтрация.\n",
    "          По умолчанию False.\n",
    "\n",
    "        Результат\n",
    "        ---------\n",
    "        tokens : list\n",
    "          Формат: [(токен1, pos1), (токен2, pos2), ... ]\n",
    "        \"\"\"\n",
    "        tokens = self._get_tokens_and_pos(stopwords=stopwords, pos_enable=True)\n",
    "        return tokens\n",
    "\n",
    "    def seriallize(self, path=None):\n",
    "        \"\"\"Сохранение параметров модели\n",
    "        Сохраняется только vocab и stopwords\n",
    "        \"\"\"\n",
    "        model_params = {'vocab': self._vocab, 'stopwords': self._stopwords}\n",
    "        if not path:\n",
    "            path = 'text_prepare_model.json'\n",
    "        with open(path, 'w', encoding='utf-8') as file:\n",
    "            json.dump(model_params, file)\n",
    "\n",
    "\n",
    "    @classmethod\n",
    "    def load_from_file(cls, pymorphy, path):\n",
    "        \"\"\" Создание модели с параметрами из файла\n",
    "\n",
    "        Параметры\n",
    "        ---------\n",
    "        pymorphy : MorphAnalyzer\n",
    "          Экземпляр MorphAnalyzer для лемматизации и поиска тегов\n",
    "        path:\n",
    "          Путь к файлу модели в формате json\n",
    "        \n",
    "        Результат\n",
    "        ---------\n",
    "        text_prep_model : TextPrepare\n",
    "        \"\"\"\n",
    "\n",
    "        with open(path, 'r', encoding='utf-8') as file:\n",
    "            model_params = json.load(file)\n",
    "\n",
    "        return cls(pymorphy=pymorphy, stopwords=model_params.get('stopwords'), \n",
    "                   vocab=model_params.get('vocab'))"
   ]
  },
  {
   "cell_type": "markdown",
   "id": "pUNwCBXnY1e-",
   "metadata": {
    "id": "pUNwCBXnY1e-"
   },
   "source": [
    "Найдем статистику количества символов в словах и количества слов в текстах"
   ]
  },
  {
   "cell_type": "code",
   "execution_count": null,
   "id": "9a0d50e1",
   "metadata": {
    "colab": {
     "base_uri": "https://localhost:8080/",
     "height": 49,
     "referenced_widgets": [
      "71b0f75cda12470fbe1d005de7cd9b68",
      "047167382bc04c2d99d7b55fb3a15a54",
      "adfdf91167464e5183efeb02089b3fbf",
      "94709408bc7347ea970916c3248705bb",
      "8731c6c7f0e7404cac842eea1d1d59bc",
      "02d06e2884af45a98c8a028d0aa75779",
      "9ece8493698c43c38731e3c196354482",
      "d187aa0c7fcc471bba4a132166cf6681",
      "89b5d649d59440c198c997e6cd68398d",
      "9f1dc768751b4cefaa594a254f182e75",
      "9f40dda6e1cc4df9a5c7c4bcc4b9f439"
     ]
    },
    "id": "9a0d50e1",
    "outputId": "45d08fe5-8fd4-4cf1-a9e9-0138c68e199c"
   },
   "outputs": [
    {
     "data": {
      "application/vnd.jupyter.widget-view+json": {
       "model_id": "71b0f75cda12470fbe1d005de7cd9b68",
       "version_major": 2,
       "version_minor": 0
      },
      "text/plain": [
       "  0%|          | 0/153499 [00:00<?, ?it/s]"
      ]
     },
     "metadata": {},
     "output_type": "display_data"
    }
   ],
   "source": [
    "# Список счетчиков символов в словах\n",
    "symbols_count = []\n",
    "# Список счетчиков слов в текстах\n",
    "words_count = []\n",
    "\n",
    "stopwords = nltk.corpus.stopwords.words('russian')\n",
    "pymorphy = pymorphy2.MorphAnalyzer(lang='ru')\n",
    "\n",
    "# Файл с  параметрами ранее обученной модели\n",
    "model_param_file = 'text_prepare_model.json'\n",
    "# Подгружаем словарь с леммами и pos-тегами из ранее обученного объекта класса TextPrepare\n",
    "# Это поможет не запускать pymorphy2 во время лемматизации\n",
    "model_vocab = TextPrepare.load_from_file(pymorphy=pymorphy, path=model_param_file)._vocab\n",
    "\n",
    "# Список обученных объектов TextPrepare для каждого текста\n",
    "# в порядке их следования в датафрейме\n",
    "text_prep_models = []\n",
    "\n",
    "tokenize_bar = tqdm(total=len(df_banki.text.values))\n",
    "for text in df_banki.text.values:\n",
    "    text_prep_model = TextPrepare(pymorphy=pymorphy, stopwords=stopwords, vocab=model_vocab)\n",
    "    text_prep_model.fit(text)\n",
    "    text_prep_models.append(text_prep_model)\n",
    "    tokens = text_prep_model.get_tokens(lemmatize=False, stopwords=False)\n",
    "    for token in tokens:\n",
    "        symbols_count.append(len(token))\n",
    "    words_count.append(len(tokens))\n",
    "    tokenize_bar.update(1)\n",
    "tokenize_bar.close()"
   ]
  },
  {
   "cell_type": "code",
   "execution_count": null,
   "id": "61ad5511",
   "metadata": {
    "colab": {
     "base_uri": "https://localhost:8080/",
     "height": 545
    },
    "id": "61ad5511",
    "outputId": "f3705423-c3c2-4aad-a211-241fd0ac215b"
   },
   "outputs": [
    {
     "data": {
      "image/png": "[encoded data removed]",
      "text/plain": [
       "<Figure size 432x288 with 1 Axes>"
      ]
     },
     "metadata": {
      "needs_background": "light"
     },
     "output_type": "display_data"
    },
    {
     "data": {
      "image/png": "[encoded data removed]",
      "text/plain": [
       "<Figure size 432x288 with 1 Axes>"
      ]
     },
     "metadata": {
      "needs_background": "light"
     },
     "output_type": "display_data"
    }
   ],
   "source": [
    "plt.hist(symbols_count, bins=np.arange(0, 20))\n",
    "plt.title(\"Распределение кол-ва символов в словах\")\n",
    "plt.show()\n",
    "\n",
    "plt.hist(words_count, bins=np.arange(0, 1000))\n",
    "plt.title(\"Распределение кол-ва слов в текстах\")\n",
    "plt.show()"
   ]
  },
  {
   "cell_type": "markdown",
   "id": "81ya1kgaABHR",
   "metadata": {
    "id": "81ya1kgaABHR"
   },
   "source": [
    "# 1.3 Поиск самых частых значений"
   ]
  },
  {
   "cell_type": "code",
   "execution_count": null,
   "id": "aSSevtDNAOVo",
   "metadata": {
    "id": "aSSevtDNAOVo"
   },
   "outputs": [],
   "source": [
    "def get_object_counts(text_prep_models, top_n=None, stopwords=False, \n",
    "                      lemmatize=False, print_result=False, pos_tag=None):\n",
    "\n",
    "    stat_tokens = Counter()\n",
    "    for text_prep_model in text_prep_models:\n",
    "        if pos_tag:\n",
    "            pos_tag = str(pos_tag).upper()\n",
    "            tokens = text_prep_model.get_pos_tags(stopwords=stopwords)\n",
    "            tokens = [token for token, pos in tokens if pos == pos_tag]\n",
    "        else:\n",
    "            tokens = text_prep_model.get_tokens(stopwords=stopwords, lemmatize=lemmatize)\n",
    "        stat_tokens.update(tokens)\n",
    "\n",
    "    stat_tokens = sorted(stat_tokens.items(), key=lambda x: x[1], reverse=True)\n",
    "    if top_n and len(stat_tokens) > top_n:\n",
    "        stat_tokens = stat_tokens[:top_n]\n",
    "\n",
    "    if print_result:\n",
    "        for position, (word, count) in enumerate(stat_tokens, 1):\n",
    "            print(f'{position}: {word} (частота {count})')\n",
    "\n",
    "    return stat_tokens"
   ]
  },
  {
   "cell_type": "markdown",
   "id": "zYb4VR_cFJLf",
   "metadata": {
    "id": "zYb4VR_cFJLf"
   },
   "source": [
    "## 1.3.1 Десять самых частых слов"
   ]
  },
  {
   "cell_type": "code",
   "execution_count": null,
   "id": "bTJusqU4Dahw",
   "metadata": {
    "colab": {
     "base_uri": "https://localhost:8080/"
    },
    "id": "bTJusqU4Dahw",
    "outputId": "62971088-d014-4fb6-d3de-b9fc7ebb7290"
   },
   "outputs": [
    {
     "name": "stdout",
     "output_type": "stream",
     "text": [
      "1: в (частота 1330535)\n",
      "2: и (частота 1058982)\n",
      "3: не (частота 855332)\n",
      "4: на (частота 707931)\n",
      "5: что (частота 640057)\n",
      "6: я (частота 577484)\n",
      "7: с (частота 463754)\n",
      "8: по (частота 372765)\n",
      "9: мне (частота 320958)\n",
      "10: банка (частота 275899)\n"
     ]
    }
   ],
   "source": [
    "_ = get_object_counts(text_prep_models=text_prep_models, \n",
    "                      top_n=10, print_result=True)"
   ]
  },
  {
   "cell_type": "markdown",
   "id": "QKVHlzNaFOkx",
   "metadata": {
    "id": "QKVHlzNaFOkx"
   },
   "source": [
    "## 1.3.2 Десять самых частых слов без стоп-слов\n",
    "\n"
   ]
  },
  {
   "cell_type": "code",
   "execution_count": null,
   "id": "Vou6G2C2FRqu",
   "metadata": {
    "colab": {
     "base_uri": "https://localhost:8080/"
    },
    "id": "Vou6G2C2FRqu",
    "outputId": "f933aec9-ac2a-4bc9-a663-399125b9c70d"
   },
   "outputs": [
    {
     "name": "stdout",
     "output_type": "stream",
     "text": [
      "1: банка (частота 275899)\n",
      "2: банк (частота 215411)\n",
      "3: это (частота 183365)\n",
      "4: деньги (частота 131200)\n",
      "5: карту (частота 105827)\n",
      "6: карты (частота 101821)\n",
      "7: т (частота 91715)\n",
      "8: кредит (частота 81119)\n",
      "9: день (частота 76552)\n",
      "10: банке (частота 72162)\n"
     ]
    }
   ],
   "source": [
    "_ = get_object_counts(text_prep_models=text_prep_models, \n",
    "                      stopwords=True, top_n=10, print_result=True)"
   ]
  },
  {
   "cell_type": "markdown",
   "id": "R9wWW-a3Gvlt",
   "metadata": {
    "id": "R9wWW-a3Gvlt"
   },
   "source": [
    "## 1.3.3 Десять самых частых лемм"
   ]
  },
  {
   "cell_type": "code",
   "execution_count": null,
   "id": "wTom0ZGgG1zN",
   "metadata": {
    "colab": {
     "base_uri": "https://localhost:8080/"
    },
    "id": "wTom0ZGgG1zN",
    "outputId": "ed63c73a-0c41-48c5-ad33-326f60fb87c8"
   },
   "outputs": [
    {
     "name": "stdout",
     "output_type": "stream",
     "text": [
      "1: банк (частота 668522)\n",
      "2: карта (частота 334994)\n",
      "3: это (частота 200057)\n",
      "4: деньга (частота 179818)\n",
      "5: день (частота 173116)\n",
      "6: мой (частота 163042)\n",
      "7: кредит (частота 156153)\n",
      "8: который (частота 149016)\n",
      "9: отделение (частота 144049)\n",
      "10: клиент (частота 136889)\n"
     ]
    }
   ],
   "source": [
    "_ = get_object_counts(text_prep_models=text_prep_models, \n",
    "                      stopwords=True, lemmatize=True, top_n=10, \n",
    "                      print_result=True)"
   ]
  },
  {
   "cell_type": "markdown",
   "id": "FnIPbgxaJvPK",
   "metadata": {
    "id": "FnIPbgxaJvPK"
   },
   "source": [
    "## 1.3.4 Десять самых частых существительных"
   ]
  },
  {
   "cell_type": "code",
   "execution_count": null,
   "id": "joCYIG1BFK_G",
   "metadata": {
    "colab": {
     "base_uri": "https://localhost:8080/"
    },
    "id": "joCYIG1BFK_G",
    "outputId": "028337dc-aec4-4640-e1bd-d465a1041ea8"
   },
   "outputs": [
    {
     "name": "stdout",
     "output_type": "stream",
     "text": [
      "1: банк (частота 668522)\n",
      "2: карта (частота 334994)\n",
      "3: деньга (частота 179818)\n",
      "4: день (частота 173116)\n",
      "5: кредит (частота 156153)\n",
      "6: отделение (частота 144049)\n",
      "7: клиент (частота 136889)\n",
      "8: сотрудник (частота 134168)\n",
      "9: счёт (частота 126894)\n",
      "10: сумма (частота 111232)\n"
     ]
    }
   ],
   "source": [
    "_ = get_object_counts(text_prep_models=text_prep_models, \n",
    "                      stopwords=True, lemmatize=True, pos_tag='NOUN', top_n=10, \n",
    "                      print_result=True)"
   ]
  },
  {
   "cell_type": "markdown",
   "id": "NG5H6vXKJj2z",
   "metadata": {
    "id": "NG5H6vXKJj2z"
   },
   "source": [
    "## 1.4 Построение кривых Ципфа и Хипса\n",
    "### 1.4.1 Кривая Ципфа\n",
    "\n",
    "Зако́н Ци́пфа — эмпирическая закономерность распределения частоты слов естественного языка: если все слова языка (или просто достаточно длинного текста) упорядочить по убыванию частоты их использования, то частота n-го слова в таком списке окажется приблизительно обратно пропорциональной его порядковому номеру n (так называемому рангу этого слова). Например, второе по используемости слово встречается примерно в два раза реже, чем первое, третье — в три раза реже, чем первое, и так далее. "
   ]
  },
  {
   "cell_type": "code",
   "execution_count": null,
   "id": "CZ02DXFjJiG0",
   "metadata": {
    "id": "CZ02DXFjJiG0"
   },
   "outputs": [],
   "source": [
    "def plot_zakon_cipfa(text_prep_models, size=200):\n",
    "    stat_tokens = get_object_counts(text_prep_models, top_n=size, \n",
    "                                    stopwords=True, lemmatize=True)\n",
    "    a_param = 0.07\n",
    "    stat_tokens = [(word, a_param/rang) for rang, (word, count) in enumerate(stat_tokens, 1)]\n",
    "\n",
    "    for rang, (word, _) in enumerate(stat_tokens):\n",
    "        print(f\"Ранг {rang}: {word}\")\n",
    "\n",
    "    f_val = [val for _, val in stat_tokens]\n",
    "    plt.plot(np.arange(1, len(stat_tokens)+1), f_val)\n",
    "    plt.xticks(np.arange(1, len(stat_tokens)+1))\n",
    "    plt.title(\"Кривая Ципфа\")\n",
    "    plt.xlabel(\"Ранг слова\")\n",
    "    plt.grid()\n",
    "    plt.show()"
   ]
  },
  {
   "cell_type": "code",
   "execution_count": null,
   "id": "STYgqu_DMOui",
   "metadata": {
    "colab": {
     "base_uri": "https://localhost:8080/",
     "height": 474
    },
    "id": "STYgqu_DMOui",
    "outputId": "a27ed04e-eca2-4655-bde1-771c2b4d8cc6"
   },
   "outputs": [
    {
     "name": "stdout",
     "output_type": "stream",
     "text": [
      "Ранг 0: банк\n",
      "Ранг 1: карта\n",
      "Ранг 2: это\n",
      "Ранг 3: деньга\n",
      "Ранг 4: день\n",
      "Ранг 5: мой\n",
      "Ранг 6: кредит\n",
      "Ранг 7: который\n",
      "Ранг 8: отделение\n",
      "Ранг 9: клиент\n"
     ]
    },
    {
     "data": {
      "image/png": "[encoded data removed]",
      "text/plain": [
       "<Figure size 432x288 with 1 Axes>"
      ]
     },
     "metadata": {
      "needs_background": "light"
     },
     "output_type": "display_data"
    }
   ],
   "source": [
    "plot_zakon_cipfa(text_prep_models=text_prep_models, size=10)"
   ]
  },
  {
   "cell_type": "markdown",
   "id": "8HRE54kFlekn",
   "metadata": {
    "id": "8HRE54kFlekn"
   },
   "source": [
    "### 1.4.2 Кривая Хипса\n",
    "\n",
    "Закон Хердана-Хипса – имперический закон, согласно которому количество уникальных слов в тексте зависит от длины текста."
   ]
  },
  {
   "cell_type": "code",
   "execution_count": null,
   "id": "fUUl3vtbMSFa",
   "metadata": {
    "id": "fUUl3vtbMSFa"
   },
   "outputs": [],
   "source": [
    "def plot_zakon_hipsa(k=20, b=0.5):\n",
    "    x = np.arange(1, 10000)\n",
    "    y = x**b * k\n",
    "    plt.plot(x, y)\n",
    "    plt.title(\"Кривая Хипса\")\n",
    "    plt.ylabel(\"Уникальные слова\")\n",
    "    plt.xlabel(\"Длина текста\")\n",
    "    plt.grid()\n",
    "    plt.show()"
   ]
  },
  {
   "cell_type": "code",
   "execution_count": null,
   "id": "Afaxc2uCOQeJ",
   "metadata": {
    "colab": {
     "base_uri": "https://localhost:8080/",
     "height": 295
    },
    "id": "Afaxc2uCOQeJ",
    "outputId": "8ceb4790-fe7d-4089-f171-d0b603ec937a"
   },
   "outputs": [
    {
     "data": {
      "image/png": "[encoded data removed]",
      "text/plain": [
       "<Figure size 432x288 with 1 Axes>"
      ]
     },
     "metadata": {
      "needs_background": "light"
     },
     "output_type": "display_data"
    }
   ],
   "source": [
    "plot_zakon_hipsa()"
   ]
  },
  {
   "cell_type": "markdown",
   "id": "ov57JymROrRL",
   "metadata": {
    "id": "ov57JymROrRL"
   },
   "source": [
    "## 1.5 Частоты слов\n",
    "### 1.5.1 Какое слово встречается чаще, \"сотрудник\" или \"клиент\"?"
   ]
  },
  {
   "cell_type": "code",
   "execution_count": null,
   "id": "oM-iPCpuOsUH",
   "metadata": {
    "id": "oM-iPCpuOsUH"
   },
   "outputs": [],
   "source": [
    "stat_tokens = get_object_counts(text_prep_models, stopwords=True, lemmatize=True)\n",
    "stat_tokens = dict(stat_tokens)"
   ]
  },
  {
   "cell_type": "code",
   "execution_count": null,
   "id": "IZszJsL7PLC4",
   "metadata": {
    "colab": {
     "base_uri": "https://localhost:8080/"
    },
    "id": "IZszJsL7PLC4",
    "outputId": "a6370162-ea4f-409f-d32f-2ad807b04839"
   },
   "outputs": [
    {
     "name": "stdout",
     "output_type": "stream",
     "text": [
      "СОТРУДНИК встречается чаще (136889 против 134168)\n"
     ]
    }
   ],
   "source": [
    "word1 = 'сотрудник'\n",
    "word2 = 'клиент'\n",
    "\n",
    "word1_counter = stat_tokens.get(word1)\n",
    "word2_counter = stat_tokens.get(word2)\n",
    "\n",
    "assert word1_counter is not None, f\"Слово {word1} отсутствует в тексте\"\n",
    "assert word2_counter is not None, f\"Слово {word2} отсутствует в тексте\"\n",
    "\n",
    "if word1_counter > word2_counter:\n",
    "    print(f\"{word1.upper()} встречается чаще ({word1_counter} против {word2_counter})\")\n",
    "elif word1_counter < word2_counter:\n",
    "    print(f\"{word1.upper()} встречается чаще ({word2_counter} против {word1_counter})\")\n",
    "else:\n",
    "    print(f\"{word1.upper()} и {word2.upper()} встречаются одинаково ({word1_counter})\")"
   ]
  },
  {
   "cell_type": "markdown",
   "id": "cbkBy_mbZSJH",
   "metadata": {
    "id": "cbkBy_mbZSJH"
   },
   "source": [
    "### 1.5.2 Какое слово встречается чаще, \"мошенничество\" или \"доверие\"?"
   ]
  },
  {
   "cell_type": "code",
   "execution_count": null,
   "id": "TzXwyYdoQRKO",
   "metadata": {
    "colab": {
     "base_uri": "https://localhost:8080/"
    },
    "id": "TzXwyYdoQRKO",
    "outputId": "8ed00db1-d75a-49c7-b934-6b0eb8cbea28"
   },
   "outputs": [
    {
     "name": "stdout",
     "output_type": "stream",
     "text": [
      "МОШЕННИЧЕСТВО встречается чаще (3244 против 2108)\n"
     ]
    }
   ],
   "source": [
    "word1 = 'мошенничество'\n",
    "word2 = 'доверие'\n",
    "\n",
    "word1_counter = stat_tokens.get(word1)\n",
    "word2_counter = stat_tokens.get(word2)\n",
    "\n",
    "assert word1_counter is not None, f\"Слово {word1} отсутствует в тексте\"\n",
    "assert word2_counter is not None, f\"Слово {word2} отсутствует в тексте\"\n",
    "\n",
    "if word1_counter > word2_counter:\n",
    "    print(f\"{word1.upper()} встречается чаще ({word1_counter} против {word2_counter})\")\n",
    "elif word1_counter < word2_counter:\n",
    "    print(f\"{word1.upper()} встречается чаще ({word2_counter} против {word1_counter})\")\n",
    "else:\n",
    "    print(f\"{word1.upper()} и {word2.upper()} встречаются одинаково ({word1_counter})\")"
   ]
  },
  {
   "cell_type": "markdown",
   "id": "78NpnkPmRk5G",
   "metadata": {
    "id": "78NpnkPmRk5G"
   },
   "source": [
    "## 1.6 В поле \"rating_grade\" записана оценка отзыва по шкале от 1 до 5. Используйте меру $tf-idf$, для того, чтобы найти ключевые слова и биграмы для положительных отзывов (с оценкой 5) и отрицательных отзывов (с оценкой 1)\n",
    "\n",
    "Для оценки сформируем два документа:\n",
    "- документ со всеми положительными отзывами;\n",
    "- документ со всеми отрицательными отзывами.\n",
    "\n",
    "В рамках указанных документов обучим модель TF-IDF и найдем значимые n-граммы для каждого документа."
   ]
  },
  {
   "cell_type": "code",
   "execution_count": null,
   "id": "MKlnylt3UmYM",
   "metadata": {
    "id": "MKlnylt3UmYM"
   },
   "outputs": [],
   "source": [
    "negative_text = \"\"\n",
    "positive_text = \"\"\n",
    "\n",
    "for index, df_row in enumerate(df_banki.itertuples()):\n",
    "    if df_row.rating_grade == 1:\n",
    "        negative_text += ' '.join(text_prep_models[index].get_tokens(stopwords=True, lemmatize=True)) + ' '\n",
    "    elif df_row.rating_grade == 5:\n",
    "        positive_text += ' '.join(text_prep_models[index].get_tokens(stopwords=True, lemmatize=True)) + ' '\n",
    "\n",
    "documents = [positive_text, negative_text]"
   ]
  },
  {
   "cell_type": "code",
   "execution_count": null,
   "id": "VRHyakCNW4hK",
   "metadata": {
    "id": "VRHyakCNW4hK"
   },
   "outputs": [],
   "source": [
    "tf_idf_model = TfidfVectorizer(ngram_range=(1,2))\n",
    "tfidf_result = tf_idf_model.fit_transform(documents).todense()\n",
    "\n",
    "# Свойство vocabulary_ содержит индексированный словарь слов модели\n",
    "# Нам нужно по индексу находить конкретное слово, создаем такой словарь\n",
    "tfidf_vocab = dict(zip(tf_idf_model.vocabulary_.values(),tf_idf_model.vocabulary_.keys()))"
   ]
  },
  {
   "cell_type": "code",
   "execution_count": null,
   "id": "gsb3OeR3wY1a",
   "metadata": {
    "id": "gsb3OeR3wY1a"
   },
   "outputs": [],
   "source": [
    "# Находим 10 индексов n-грамм с максимальными значениями TF-IDF для позитивных примеров\n",
    "top_pos_index = np.ravel(np.argsort(tfidf_result[0]))[::-1][:10]\n",
    "# Находим 10 индексов n-грамм с максимальными значениями TF-IDF для негативных примеров\n",
    "top_neg_index =np.ravel(np.argsort(tfidf_result[1]))[::-1][:10]\n",
    "\n",
    "# Находим ТОП-10 n-грамм с максимальным значением TF-IDF для позитивных примеров\n",
    "top_pos_features = [tfidf_vocab[index] for index in top_pos_index]\n",
    "# Находим ТОП-10 n-грамм с максимальным значением TF-IDF для негативных примеров\n",
    "top_neg_features = [tfidf_vocab[index] for index in top_neg_index]\n",
    "\n",
    "# Находим значения TF-IDF n-грамм для позитивных примеров\n",
    "top_pos_tfidf = [tfidf_result[0, index] for index in top_pos_index]\n",
    "# Находим значения TF-IDF n-грамм для негативных примеров\n",
    "top_neg_tfidf = [tfidf_result[1, index] for index in top_neg_index]"
   ]
  },
  {
   "cell_type": "code",
   "execution_count": null,
   "id": "bqLD32bIxNM6",
   "metadata": {
    "colab": {
     "base_uri": "https://localhost:8080/"
    },
    "id": "bqLD32bIxNM6",
    "outputId": "a4daf758-d1d7-4bf8-b9d7-8a925177014a"
   },
   "outputs": [
    {
     "name": "stdout",
     "output_type": "stream",
     "text": [
      "Самые важные n-граммы для позитивных сообщений\n",
      "\n",
      "1: банк (0.6384085229888494)\n",
      "2: карта (0.2455695532418993)\n",
      "3: это (0.1660616585713556)\n",
      "4: очень (0.1533771394855191)\n",
      "5: день (0.13315813333097695)\n",
      "6: кредит (0.13302132033621447)\n",
      "7: клиент (0.13015801980297095)\n",
      "8: отделение (0.1272360851291149)\n",
      "9: который (0.11784485027434692)\n",
      "10: сотрудник (0.11519654159001587)\n",
      "Самые важные n-граммы для негативных сообщений\n",
      "\n",
      "1: банк (0.5590533039888984)\n",
      "2: карта (0.28425504884224523)\n",
      "3: это (0.17767257398912706)\n",
      "4: деньга (0.1705628290915602)\n",
      "5: день (0.1614465779668716)\n",
      "6: мой (0.14842756198283633)\n",
      "7: отделение (0.145948216070935)\n",
      "8: который (0.13510720257274983)\n",
      "9: кредит (0.13075854744070944)\n",
      "10: сотрудник (0.12982021791081003)\n"
     ]
    }
   ],
   "source": [
    "print('Самые важные n-граммы для позитивных сообщений\\n')\n",
    "for index, (word, tfidf) in enumerate(zip(top_pos_features, top_pos_tfidf), 1):\n",
    "    print(f'{index}: {word} ({tfidf})')\n",
    "\n",
    "print('Самые важные n-граммы для негативных сообщений\\n')\n",
    "for index, (word, tfidf) in enumerate(zip(top_neg_features, top_neg_tfidf), 1):\n",
    "    print(f'{index}: {word} ({tfidf})')"
   ]
  },
  {
   "cell_type": "markdown",
   "id": "0ROlb3D0EVVD",
   "metadata": {
    "id": "0ROlb3D0EVVD"
   },
   "source": [
    "# Часть 2. Тематическое моделирование [20/100]\n",
    "\n",
    "##2.1 Построение несколько тематических моделей коллекции документов с разным числом тем.\n",
    "\n",
    "### 2.1.1 Тематическое моделирование LSI, кол-во тем = 50"
   ]
  },
  {
   "cell_type": "code",
   "execution_count": null,
   "id": "Xlp2tYWURjDs",
   "metadata": {
    "id": "Xlp2tYWURjDs"
   },
   "outputs": [],
   "source": [
    "all_texts = [text_prep_model.get_tokens(stopwords=True, lemmatize=True) \n",
    "             for text_prep_model in text_prep_models]\n",
    "\n",
    "dictionary = Dictionary(all_texts)\n",
    "corpus = [dictionary.doc2bow(text) for text in all_texts]"
   ]
  },
  {
   "cell_type": "code",
   "execution_count": null,
   "id": "_7EF4O7nSnwj",
   "metadata": {
    "id": "_7EF4O7nSnwj"
   },
   "outputs": [],
   "source": [
    "gs_tfidf = TfidfModel(corpus)\n",
    "corpus_tfidf = gs_tfidf[corpus]"
   ]
  },
  {
   "cell_type": "code",
   "execution_count": null,
   "id": "X7vc_07khGuW",
   "metadata": {
    "colab": {
     "base_uri": "https://localhost:8080/"
    },
    "id": "X7vc_07khGuW",
    "outputId": "fae7319c-98f1-4db1-f24c-6bb5fe06451a"
   },
   "outputs": [
    {
     "data": {
      "text/plain": [
       "[(0,\n",
       "  '0.189*\"карта\" + 0.133*\"кредит\" + 0.114*\"деньга\" + 0.108*\"заявление\" + 0.105*\"счёт\" + 0.100*\"банкомат\" + 0.100*\"вклад\" + 0.099*\"отделение\" + 0.095*\"сбербанк\" + 0.095*\"сумма\"'),\n",
       " (1,\n",
       "  '-0.386*\"вклад\" + 0.357*\"кредит\" + -0.210*\"банкомат\" + -0.166*\"карта\" + 0.166*\"страховка\" + 0.146*\"задолженность\" + 0.143*\"платёж\" + 0.138*\"погашение\" + -0.118*\"деньга\" + 0.116*\"звонок\"'),\n",
       " (2,\n",
       "  '-0.492*\"вклад\" + 0.286*\"банкомат\" + 0.220*\"карта\" + 0.185*\"сбербанк\" + 0.136*\"заявление\" + -0.134*\"кредит\" + 0.120*\"деньга\" + -0.119*\"договор\" + 0.119*\"операция\" + -0.114*\"очередь\"'),\n",
       " (3,\n",
       "  '-0.257*\"вклад\" + -0.219*\"сумма\" + 0.208*\"номер\" + -0.185*\"руб\" + 0.162*\"заявка\" + -0.160*\"погашение\" + 0.160*\"звонок\" + -0.156*\"платёж\" + -0.154*\"договор\" + -0.144*\"процент\"'),\n",
       " (4,\n",
       "  '0.341*\"вклад\" + 0.254*\"номер\" + -0.222*\"карта\" + -0.220*\"страховка\" + -0.206*\"заявка\" + 0.183*\"звонок\" + -0.148*\"кредит\" + 0.137*\"ваш\" + 0.131*\"телефон\" + -0.114*\"одобрить\"')]"
      ]
     },
     "execution_count": 28,
     "metadata": {},
     "output_type": "execute_result"
    }
   ],
   "source": [
    "lsi = lsimodel.LsiModel(corpus=corpus_tfidf, id2word=dictionary, num_topics=50)\n",
    "lsi.show_topics(5)"
   ]
  },
  {
   "cell_type": "markdown",
   "id": "SH0U4p6tfBoO",
   "metadata": {
    "id": "SH0U4p6tfBoO"
   },
   "source": [
    "Посмотрим на первые пять тем"
   ]
  },
  {
   "cell_type": "code",
   "execution_count": null,
   "id": "_cyU3bCZT0VD",
   "metadata": {
    "colab": {
     "base_uri": "https://localhost:8080/"
    },
    "id": "_cyU3bCZT0VD",
    "outputId": "8d39e706-0b01-49b5-ead5-96a92b879a33"
   },
   "outputs": [
    {
     "data": {
      "text/plain": [
       "[(0,\n",
       "  '0.189*\"карта\" + 0.133*\"кредит\" + 0.114*\"деньга\" + 0.108*\"заявление\" + 0.105*\"счёт\" + 0.100*\"банкомат\" + 0.100*\"вклад\" + 0.099*\"отделение\" + 0.095*\"сбербанк\" + 0.095*\"сумма\"'),\n",
       " (1,\n",
       "  '-0.386*\"вклад\" + 0.357*\"кредит\" + -0.210*\"банкомат\" + -0.166*\"карта\" + 0.166*\"страховка\" + 0.146*\"задолженность\" + 0.143*\"платёж\" + 0.138*\"погашение\" + -0.118*\"деньга\" + 0.116*\"звонок\"'),\n",
       " (2,\n",
       "  '-0.492*\"вклад\" + 0.286*\"банкомат\" + 0.220*\"карта\" + 0.185*\"сбербанк\" + 0.136*\"заявление\" + -0.134*\"кредит\" + 0.120*\"деньга\" + -0.119*\"договор\" + 0.119*\"операция\" + -0.114*\"очередь\"'),\n",
       " (3,\n",
       "  '-0.257*\"вклад\" + -0.219*\"сумма\" + 0.208*\"номер\" + -0.185*\"руб\" + 0.162*\"заявка\" + -0.160*\"погашение\" + 0.160*\"звонок\" + -0.156*\"платёж\" + -0.154*\"договор\" + -0.144*\"процент\"'),\n",
       " (4,\n",
       "  '0.341*\"вклад\" + 0.254*\"номер\" + -0.222*\"карта\" + -0.220*\"страховка\" + -0.206*\"заявка\" + 0.183*\"звонок\" + -0.148*\"кредит\" + 0.137*\"ваш\" + 0.131*\"телефон\" + -0.114*\"одобрить\"')]"
      ]
     },
     "execution_count": 29,
     "metadata": {},
     "output_type": "execute_result"
    }
   ],
   "source": [
    "lsi.show_topics(5)"
   ]
  },
  {
   "cell_type": "markdown",
   "id": "iH9zsaBhfF8G",
   "metadata": {
    "id": "iH9zsaBhfF8G"
   },
   "source": [
    "Попробуем обяснить тему с индексом 0.\n",
    "\n",
    "0.189*\"карта\" + 0.133*\"кредит\" + 0.114*\"деньга\" + 0.108*\"заявление\" + 0.105*\"счёт\" + 0.100*\"банкомат\" + 0.100*\"вклад\" + 0.099*\"отделение\" + 0.095*\"сбербанк\" + 0.095*\"сумма\"\n",
    "\n",
    "У всех слов вес положительный, значит тема касается так или иначе всех слов.\n",
    "Предполагаем, что тема связана с заявлениями на открытие счетов для кредитных карт в отделениях Сбербанка на определенную сумму, а так же вклады и снятие наличных в банкомате с кредитных карт."
   ]
  },
  {
   "cell_type": "markdown",
   "id": "XiU5Zjuyg_i-",
   "metadata": {
    "id": "XiU5Zjuyg_i-"
   },
   "source": [
    "### 2.1.2 Тематическое моделирование LSI, кол-во тем = 100"
   ]
  },
  {
   "cell_type": "code",
   "execution_count": null,
   "id": "9sXRAgichC3E",
   "metadata": {
    "colab": {
     "base_uri": "https://localhost:8080/"
    },
    "id": "9sXRAgichC3E",
    "outputId": "00b79ee1-dcbc-41f1-c2f5-a146637a8ed2"
   },
   "outputs": [
    {
     "data": {
      "text/plain": [
       "[(0,\n",
       "  '0.189*\"карта\" + 0.133*\"кредит\" + 0.114*\"деньга\" + 0.108*\"заявление\" + 0.105*\"счёт\" + 0.100*\"банкомат\" + 0.100*\"вклад\" + 0.099*\"отделение\" + 0.095*\"сбербанк\" + 0.095*\"сумма\"'),\n",
       " (1,\n",
       "  '-0.384*\"вклад\" + 0.357*\"кредит\" + -0.211*\"банкомат\" + 0.167*\"страховка\" + -0.167*\"карта\" + 0.146*\"задолженность\" + 0.143*\"платёж\" + 0.137*\"погашение\" + -0.118*\"деньга\" + 0.116*\"звонок\"'),\n",
       " (2,\n",
       "  '-0.493*\"вклад\" + 0.285*\"банкомат\" + 0.219*\"карта\" + 0.186*\"сбербанк\" + 0.137*\"заявление\" + -0.133*\"кредит\" + -0.120*\"договор\" + 0.119*\"деньга\" + 0.118*\"операция\" + -0.115*\"очередь\"'),\n",
       " (3,\n",
       "  '-0.252*\"вклад\" + -0.218*\"сумма\" + 0.212*\"номер\" + -0.185*\"руб\" + 0.163*\"звонок\" + -0.159*\"погашение\" + 0.159*\"заявка\" + -0.155*\"платёж\" + -0.154*\"договор\" + -0.145*\"процент\"'),\n",
       " (4,\n",
       "  '0.344*\"вклад\" + 0.253*\"номер\" + -0.228*\"карта\" + -0.213*\"страховка\" + -0.209*\"заявка\" + 0.183*\"звонок\" + -0.143*\"кредит\" + 0.139*\"ваш\" + 0.129*\"телефон\" + -0.114*\"лимит\"')]"
      ]
     },
     "execution_count": 30,
     "metadata": {},
     "output_type": "execute_result"
    }
   ],
   "source": [
    "lsi = lsimodel.LsiModel(corpus=corpus_tfidf, id2word=dictionary, num_topics=100)\n",
    "lsi.show_topics(5)"
   ]
  },
  {
   "cell_type": "markdown",
   "id": "AczJIwUPn6LG",
   "metadata": {
    "id": "AczJIwUPn6LG"
   },
   "source": [
    "Получили аналогичный результат, только поменялись немного веса для определенных тем."
   ]
  },
  {
   "cell_type": "markdown",
   "id": "Kqefm9a3W3Q7",
   "metadata": {
    "id": "Kqefm9a3W3Q7"
   },
   "source": [
    "## 2.1 Найти темы с упоминанием банка ВТБ"
   ]
  },
  {
   "cell_type": "code",
   "execution_count": null,
   "id": "BjjGSc7BW6bm",
   "metadata": {
    "colab": {
     "base_uri": "https://localhost:8080/"
    },
    "id": "BjjGSc7BW6bm",
    "outputId": "4438b84a-feba-43ed-da40-c559eb16f639"
   },
   "outputs": [
    {
     "data": {
      "text/plain": [
       "[(24,\n",
       "  '-0.356*\"комиссия\" + 0.253*\"сч\" + -0.198*\"заявление\" + 0.161*\"г\" + 0.159*\"руб\" + -0.158*\"очередь\" + -0.125*\"тариф\" + -0.125*\"претензия\" + -0.121*\"рассмотрение\" + 0.119*\"втб\"'),\n",
       " (31,\n",
       "  '-0.264*\"справка\" + 0.230*\"втб\" + -0.230*\"платёж\" + 0.206*\"претензия\" + -0.194*\"услуга\" + -0.187*\"заявление\" + 0.154*\"код\" + 0.138*\"письмо\" + -0.136*\"альфа\" + -0.132*\"лимит\"'),\n",
       " (35,\n",
       "  '-0.320*\"р\" + 0.264*\"рубль\" + 0.239*\"лимит\" + -0.228*\"договор\" + -0.211*\"центр\" + -0.189*\"колл\" + 0.174*\"страховка\" + 0.147*\"втб\" + -0.144*\"справка\" + -0.141*\"курс\"'),\n",
       " (39,\n",
       "  '-0.257*\"претензия\" + 0.251*\"ставка\" + -0.187*\"комиссия\" + 0.183*\"перевод\" + 0.169*\"альфа\" + -0.166*\"связный\" + 0.146*\"р\" + 0.144*\"ru\" + 0.144*\"заявление\" + 0.131*\"втб\"'),\n",
       " (42,\n",
       "  '-0.251*\"поддержка\" + 0.246*\"втб\" + -0.239*\"служба\" + 0.212*\"заявка\" + -0.211*\"купюра\" + 0.170*\"выписка\" + 0.149*\"офис\" + -0.144*\"средство\" + 0.143*\"код\" + 0.140*\"центр\"'),\n",
       " (47,\n",
       "  '-0.367*\"менеджер\" + -0.250*\"стандарт\" + -0.246*\"офис\" + -0.243*\"русский\" + 0.194*\"связный\" + 0.182*\"втб\" + -0.152*\"код\" + -0.137*\"пин\" + 0.132*\"смс\" + -0.110*\"пароль\"'),\n",
       " (51,\n",
       "  '0.253*\"купюра\" + -0.227*\"код\" + -0.226*\"пин\" + -0.212*\"претензия\" + 0.207*\"выписка\" + -0.187*\"ставка\" + 0.172*\"альфа\" + 0.171*\"кассир\" + 0.167*\"договор\" + 0.158*\"втб\"'),\n",
       " (53,\n",
       "  '0.309*\"менеджер\" + 0.201*\"претензия\" + 0.201*\"стандарт\" + 0.195*\"русский\" + -0.173*\"история\" + 0.160*\"лимит\" + 0.151*\"ваш\" + 0.149*\"втб\" + -0.143*\"специалист\" + -0.139*\"код\"')]"
      ]
     },
     "execution_count": 41,
     "metadata": {},
     "output_type": "execute_result"
    }
   ],
   "source": [
    "pattern = r'\\+ [\\d+]\\.[\\d]+\\*\"втб\"'\n",
    "word = re.compile(pattern)\n",
    "vtb_topics = [topic for topic in lsi.show_topics() if word.findall(topic[1])]\n",
    "vtb_topics"
   ]
  },
  {
   "cell_type": "markdown",
   "id": "v7WKYrW3oram",
   "metadata": {
    "id": "v7WKYrW3oram"
   },
   "source": [
    "Попробуем обяснить тему с индексом 31.\n",
    "\n",
    "-0.264*\"справка\" + 0.230*\"втб\" + -0.230*\"платёж\" + 0.206*\"претензия\" + -0.194*\"услуга\" + -0.187*\"заявление\" + 0.154*\"код\" + 0.138*\"письмо\" + -0.136*\"альфа\" + -0.132*\"лимит\"\n",
    "\n",
    "Тема вероятно связана с претензией в банк ВТБ и в ней участвует некий код (возможно, кодовое слово из договора) и заявление. При этом претензия мало связана с платежами, услугами и лимитами.\n",
    "\n"
   ]
  },
  {
   "cell_type": "markdown",
   "id": "U3wQamp4YU1i",
   "metadata": {
    "id": "U3wQamp4YU1i"
   },
   "source": [
    "# Часть 3. Классификация текстов [40/100]\n",
    "\n",
    "Сформулируем для простоты задачу бинарной классификации: будем классифицировать на два класса, то есть, различать резко отрицательные отзывы (с оценкой 1) и положительные отзывы (с оценкой 5).\n",
    "\n",
    "Требуется сравнить, как изменяется качество решения задачи при использовании скрытых тем в качестве признаков:\n",
    "\n",
    "- 1-ый вариант: $tf-idf$ преобразование (sklearn.feature_extraction.text.TfidfTransformer) и сингулярное разложение (оно же – латентый семантический анализ) (sklearn.decomposition.TruncatedSVD),\n",
    "\n",
    "- 2-ой вариант: тематические модели LDA (sklearn.decomposition.LatentDirichletAllocation).\n",
    "\n",
    "Для оценки качества классификации необходимо использовать accuracy и F-measure "
   ]
  },
  {
   "cell_type": "code",
   "execution_count": null,
   "id": "uVeesfvCcNw-",
   "metadata": {
    "id": "uVeesfvCcNw-"
   },
   "outputs": [],
   "source": [
    "def text_prepare(text):\n",
    "    text_prep_model.fit(text)\n",
    "    tokens = text_prep_model.get_tokens(lemmatize=True, stopwords=True)\n",
    "    return ' '.join(tokens)"
   ]
  },
  {
   "cell_type": "code",
   "execution_count": null,
   "id": "hgCItUMNYbFG",
   "metadata": {
    "colab": {
     "base_uri": "https://localhost:8080/",
     "height": 363
    },
    "id": "hgCItUMNYbFG",
    "outputId": "b524ce43-7e8e-4ca2-e313-035c42cb8dc4"
   },
   "outputs": [
    {
     "data": {
      "text/html": [
       "<div>\n",
       "<style scoped>\n",
       "    .dataframe tbody tr th:only-of-type {\n",
       "        vertical-align: middle;\n",
       "    }\n",
       "\n",
       "    .dataframe tbody tr th {\n",
       "        vertical-align: top;\n",
       "    }\n",
       "\n",
       "    .dataframe thead th {\n",
       "        text-align: right;\n",
       "    }\n",
       "</style>\n",
       "<table border=\"1\" class=\"dataframe\">\n",
       "  <thead>\n",
       "    <tr style=\"text-align: right;\">\n",
       "      <th></th>\n",
       "      <th>text</th>\n",
       "      <th>target</th>\n",
       "    </tr>\n",
       "  </thead>\n",
       "  <tbody>\n",
       "    <tr>\n",
       "      <th>19</th>\n",
       "      <td>открыть вклад счёт usd плюс этот зарплатный ка...</td>\n",
       "      <td>0</td>\n",
       "    </tr>\n",
       "    <tr>\n",
       "      <th>33</th>\n",
       "      <td>добрый время вчера поступить смс уведомление б...</td>\n",
       "      <td>0</td>\n",
       "    </tr>\n",
       "    <tr>\n",
       "      <th>76</th>\n",
       "      <td>г около час прийти указанный офис намерение по...</td>\n",
       "      <td>0</td>\n",
       "    </tr>\n",
       "    <tr>\n",
       "      <th>85</th>\n",
       "      <td>оплата коммунальный платёж пользоваться пласти...</td>\n",
       "      <td>0</td>\n",
       "    </tr>\n",
       "    <tr>\n",
       "      <th>94</th>\n",
       "      <td>апрель год прийти отделение сбербанк г чапаевс...</td>\n",
       "      <td>0</td>\n",
       "    </tr>\n",
       "    <tr>\n",
       "      <th>96</th>\n",
       "      <td>продолжение история который тянуться март г ht...</td>\n",
       "      <td>0</td>\n",
       "    </tr>\n",
       "    <tr>\n",
       "      <th>98</th>\n",
       "      <td>досрочно закрывать вклад отпуск жена заказыват...</td>\n",
       "      <td>1</td>\n",
       "    </tr>\n",
       "    <tr>\n",
       "      <th>101</th>\n",
       "      <td>являться клиент данный банк год точно упомнить...</td>\n",
       "      <td>0</td>\n",
       "    </tr>\n",
       "    <tr>\n",
       "      <th>103</th>\n",
       "      <td>отвратительный отношение вкладчик прийти попол...</td>\n",
       "      <td>0</td>\n",
       "    </tr>\n",
       "    <tr>\n",
       "      <th>105</th>\n",
       "      <td>сегодня июнь тихвинский отказать выплата проце...</td>\n",
       "      <td>0</td>\n",
       "    </tr>\n",
       "  </tbody>\n",
       "</table>\n",
       "</div>"
      ],
      "text/plain": [
       "                                                  text  target\n",
       "19   открыть вклад счёт usd плюс этот зарплатный ка...       0\n",
       "33   добрый время вчера поступить смс уведомление б...       0\n",
       "76   г около час прийти указанный офис намерение по...       0\n",
       "85   оплата коммунальный платёж пользоваться пласти...       0\n",
       "94   апрель год прийти отделение сбербанк г чапаевс...       0\n",
       "96   продолжение история который тянуться март г ht...       0\n",
       "98   досрочно закрывать вклад отпуск жена заказыват...       1\n",
       "101  являться клиент данный банк год точно упомнить...       0\n",
       "103  отвратительный отношение вкладчик прийти попол...       0\n",
       "105  сегодня июнь тихвинский отказать выплата проце...       0"
      ]
     },
     "execution_count": 33,
     "metadata": {},
     "output_type": "execute_result"
    }
   ],
   "source": [
    "\"\"\"\n",
    "df_text = df_banki.loc[df_banki.rating_grade.isin([1.0, 5.0]), ['text', 'rating_grade']]\n",
    "df_text.loc[:, 'target'] = df_text.rating_grade.apply(lambda x: 0 if x == 1.0 else 1)\n",
    "df_text = df_text[['text', 'target']]\n",
    "df_text.text = df_text.text.apply(lambda x: text_prepare(x))\n",
    "df_text.to_pickle('df_text.pickle', protocol=3)\n",
    "\"\"\"\n",
    "# Откроем ранее преобразованный текст, обработанный с помощью класса TextPrepare\n",
    "# Файл лежит в архиве df_text.7z\n",
    "df_text = pd.read_pickle('df_text.pickle')\n",
    "df_text[:10]"
   ]
  },
  {
   "cell_type": "markdown",
   "id": "DL3QOnVecokm",
   "metadata": {
    "id": "DL3QOnVecokm"
   },
   "source": [
    "Разделим данные на обучающую и тестовую выборки. С помощью стратификации обеспечим пропорциональное распределение классов в выборках, как в исходном распределении."
   ]
  },
  {
   "cell_type": "code",
   "execution_count": null,
   "id": "M7BfCW6H-27w",
   "metadata": {
    "id": "M7BfCW6H-27w"
   },
   "outputs": [],
   "source": [
    "X_train, X_test, y_train, y_test = train_test_split(df_text['text'], df_text.target, test_size=0.15, \n",
    "                                                    stratify=df_text.target, random_state=42)"
   ]
  },
  {
   "cell_type": "markdown",
   "id": "035pSKb7c31f",
   "metadata": {
    "id": "035pSKb7c31f"
   },
   "source": [
    "Не смотря на стратификацию, в обучающих данных есть дисбаланс классов. Подберем веса для обучения модели классификации для каждого класса:"
   ]
  },
  {
   "cell_type": "code",
   "execution_count": null,
   "id": "Rsx4893rLo4g",
   "metadata": {
    "colab": {
     "base_uri": "https://localhost:8080/"
    },
    "id": "Rsx4893rLo4g",
    "outputId": "26d6a61a-4275-45df-96b2-eb2497d6a6ec"
   },
   "outputs": [
    {
     "name": "stdout",
     "output_type": "stream",
     "text": [
      "Вес для негативного класса: 0.7630766316188311\n",
      "Вес для позитивного класса: 0.2369233683811689\n"
     ]
    }
   ],
   "source": [
    "w_neg, w_pos = y_train.value_counts() /  y_train.value_counts().sum()\n",
    "print('Вес для негативного класса:', w_neg)\n",
    "print('Вес для позитивного класса:', w_pos)"
   ]
  },
  {
   "cell_type": "markdown",
   "id": "rV3P9c4gdE2G",
   "metadata": {
    "id": "rV3P9c4gdE2G"
   },
   "source": [
    "В первом эксперименте для формирования признаков используем TF-IDF и сжатие пространства с помощью сингулярного разложения. Классификацию будем проводить с помощью ансамблевой модели случайных лесов."
   ]
  },
  {
   "cell_type": "code",
   "execution_count": null,
   "id": "578AZIA-xV5b",
   "metadata": {
    "id": "578AZIA-xV5b"
   },
   "outputs": [],
   "source": [
    "clf = Pipeline([ \n",
    "    ('vect', TfidfVectorizer()), \n",
    "    ('tm', TruncatedSVD(n_components=30, random_state=42)), \n",
    "    ('clf', RandomForestClassifier(n_estimators=200, max_depth=60, class_weight={0:w_neg, 1:w_pos},\n",
    "                                   random_state=42))\n",
    "])"
   ]
  },
  {
   "cell_type": "code",
   "execution_count": null,
   "id": "DpdT4n2PD3m1",
   "metadata": {
    "id": "DpdT4n2PD3m1"
   },
   "outputs": [],
   "source": [
    "clf.fit(X_train, y_train)\n",
    "y_pred = clf.predict(X_test)"
   ]
  },
  {
   "cell_type": "code",
   "execution_count": null,
   "id": "-KfC_9H6EOLp",
   "metadata": {
    "colab": {
     "base_uri": "https://localhost:8080/"
    },
    "id": "-KfC_9H6EOLp",
    "outputId": "7ad33c36-9102-4ae0-a431-695a89e2e422"
   },
   "outputs": [
    {
     "name": "stdout",
     "output_type": "stream",
     "text": [
      "Модель TF-IDF -> SVD -> RandomForest\n",
      "accuracy: 0.9201288244766506\n",
      "f1_score: 0.8101071975497703\n"
     ]
    }
   ],
   "source": [
    "print('Модель TF-IDF -> SVD -> RandomForest')\n",
    "print('accuracy:', accuracy_score(y_test, y_pred))\n",
    "print('f1_score:', f1_score(y_test, y_pred))"
   ]
  },
  {
   "cell_type": "markdown",
   "id": "8fwL0s24d8de",
   "metadata": {
    "id": "8fwL0s24d8de"
   },
   "source": [
    "Во втором эксперименте для формирования признаков используем TF-IDF и сжатие пространства с помощью латентного размещения Дирихле. Классификацию будем проводить с помощью ансамблевой модели случайных лесов."
   ]
  },
  {
   "cell_type": "code",
   "execution_count": null,
   "id": "ZpcaPJw8GGY3",
   "metadata": {
    "id": "ZpcaPJw8GGY3"
   },
   "outputs": [],
   "source": [
    "clf = Pipeline([ \n",
    "    ('vect', TfidfVectorizer()), \n",
    "    ('tm', LatentDirichletAllocation(n_components=100, max_iter=100, random_state=42)), \n",
    "    ('clf', RandomForestClassifier(n_estimators=200, max_depth=60, class_weight={0:w_neg, 1:w_pos},\n",
    "                                   random_state=42))\n",
    "])"
   ]
  },
  {
   "cell_type": "code",
   "execution_count": null,
   "id": "MFmDC7kZT6DU",
   "metadata": {
    "id": "MFmDC7kZT6DU"
   },
   "outputs": [],
   "source": [
    "clf.fit(X_train, y_train)\n",
    "y_pred = clf.predict(X_test)"
   ]
  },
  {
   "cell_type": "code",
   "execution_count": null,
   "id": "lUf_pN13ePV6",
   "metadata": {
    "colab": {
     "base_uri": "https://localhost:8080/"
    },
    "id": "lUf_pN13ePV6",
    "outputId": "ab64ee4e-17cd-4a64-af98-5ec2128b91ee"
   },
   "outputs": [
    {
     "name": "stdout",
     "output_type": "stream",
     "text": [
      "Модель TF-IDF -> LatentDirichletAllocation -> RandomForest\n",
      "accuracy: 0.7559849704777241\n",
      "f1_score: 0.052521884118382656\n"
     ]
    }
   ],
   "source": [
    "print('Модель TF-IDF -> LatentDirichletAllocation -> RandomForest')\n",
    "print('accuracy:', accuracy_score(y_test, y_pred))\n",
    "print('f1_score:', f1_score(y_test, y_pred))"
   ]
  }
 ],
 "metadata": {
  "colab": {
   "collapsed_sections": [],
   "name": "Untitled.ipynb",
   "provenance": []
  },
  "kernelspec": {
   "display_name": "Python 3",
   "language": "python",
   "name": "python3"
  },
  "language_info": {
   "codemirror_mode": {
    "name": "ipython",
    "version": 3
   },
   "file_extension": ".py",
   "mimetype": "text/x-python",
   "name": "python",
   "nbconvert_exporter": "python",
   "pygments_lexer": "ipython3",
   "version": "3.8.8"
  },
  "widgets": {
   "application/vnd.jupyter.widget-state+json": {
    "02d06e2884af45a98c8a028d0aa75779": {
     "model_module": "@jupyter-widgets/controls",
     "model_module_version": "1.5.0",
     "model_name": "DescriptionStyleModel",
     "state": {
      "_model_module": "@jupyter-widgets/controls",
      "_model_module_version": "1.5.0",
      "_model_name": "DescriptionStyleModel",
      "_view_count": null,
      "_view_module": "@jupyter-widgets/base",
      "_view_module_version": "1.2.0",
      "_view_name": "StyleView",
      "description_width": ""
     }
    },
    "047167382bc04c2d99d7b55fb3a15a54": {
     "model_module": "@jupyter-widgets/base",
     "model_module_version": "1.2.0",
     "model_name": "LayoutModel",
     "state": {
      "_model_module": "@jupyter-widgets/base",
      "_model_module_version": "1.2.0",
      "_model_name": "LayoutModel",
      "_view_count": null,
      "_view_module": "@jupyter-widgets/base",
      "_view_module_version": "1.2.0",
      "_view_name": "LayoutView",
      "align_content": null,
      "align_items": null,
      "align_self": null,
      "border": null,
      "bottom": null,
      "display": null,
      "flex": null,
      "flex_flow": null,
      "grid_area": null,
      "grid_auto_columns": null,
      "grid_auto_flow": null,
      "grid_auto_rows": null,
      "grid_column": null,
      "grid_gap": null,
      "grid_row": null,
      "grid_template_areas": null,
      "grid_template_columns": null,
      "grid_template_rows": null,
      "height": null,
      "justify_content": null,
      "justify_items": null,
      "left": null,
      "margin": null,
      "max_height": null,
      "max_width": null,
      "min_height": null,
      "min_width": null,
      "object_fit": null,
      "object_position": null,
      "order": null,
      "overflow": null,
      "overflow_x": null,
      "overflow_y": null,
      "padding": null,
      "right": null,
      "top": null,
      "visibility": null,
      "width": null
     }
    },
    "2f70f53cb8b3495eb84b7463456a4340": {
     "model_module": "@jupyter-widgets/controls",
     "model_module_version": "1.5.0",
     "model_name": "HTMLModel",
     "state": {
      "_dom_classes": [],
      "_model_module": "@jupyter-widgets/controls",
      "_model_module_version": "1.5.0",
      "_model_name": "HTMLModel",
      "_view_count": null,
      "_view_module": "@jupyter-widgets/controls",
      "_view_module_version": "1.5.0",
      "_view_name": "HTMLView",
      "description": "",
      "description_tooltip": null,
      "layout": "IPY_MODEL_ce46f2c180d14c6bacdfd764dceef258",
      "placeholder": "​",
      "style": "IPY_MODEL_d00ef25ddd2841f2ad7f71998ef5fe7f",
      "value": " 201030/? [03:02&lt;00:00, 1944.99it/s]"
     }
    },
    "31fb0b358fa6469e852a4061f1a70ca2": {
     "model_module": "@jupyter-widgets/base",
     "model_module_version": "1.2.0",
     "model_name": "LayoutModel",
     "state": {
      "_model_module": "@jupyter-widgets/base",
      "_model_module_version": "1.2.0",
      "_model_name": "LayoutModel",
      "_view_count": null,
      "_view_module": "@jupyter-widgets/base",
      "_view_module_version": "1.2.0",
      "_view_name": "LayoutView",
      "align_content": null,
      "align_items": null,
      "align_self": null,
      "border": null,
      "bottom": null,
      "display": null,
      "flex": null,
      "flex_flow": null,
      "grid_area": null,
      "grid_auto_columns": null,
      "grid_auto_flow": null,
      "grid_auto_rows": null,
      "grid_column": null,
      "grid_gap": null,
      "grid_row": null,
      "grid_template_areas": null,
      "grid_template_columns": null,
      "grid_template_rows": null,
      "height": null,
      "justify_content": null,
      "justify_items": null,
      "left": null,
      "margin": null,
      "max_height": null,
      "max_width": null,
      "min_height": null,
      "min_width": null,
      "object_fit": null,
      "object_position": null,
      "order": null,
      "overflow": null,
      "overflow_x": null,
      "overflow_y": null,
      "padding": null,
      "right": null,
      "top": null,
      "visibility": null,
      "width": null
     }
    },
    "652418a65f4e4fd8b9b2f60d8f5edda0": {
     "model_module": "@jupyter-widgets/controls",
     "model_module_version": "1.5.0",
     "model_name": "HTMLModel",
     "state": {
      "_dom_classes": [],
      "_model_module": "@jupyter-widgets/controls",
      "_model_module_version": "1.5.0",
      "_model_name": "HTMLModel",
      "_view_count": null,
      "_view_module": "@jupyter-widgets/controls",
      "_view_module_version": "1.5.0",
      "_view_name": "HTMLView",
      "description": "",
      "description_tooltip": null,
      "layout": "IPY_MODEL_31fb0b358fa6469e852a4061f1a70ca2",
      "placeholder": "​",
      "style": "IPY_MODEL_c95311ef48f4406095b304778a95aecb",
      "value": ""
     }
    },
    "71b0f75cda12470fbe1d005de7cd9b68": {
     "model_module": "@jupyter-widgets/controls",
     "model_module_version": "1.5.0",
     "model_name": "HBoxModel",
     "state": {
      "_dom_classes": [],
      "_model_module": "@jupyter-widgets/controls",
      "_model_module_version": "1.5.0",
      "_model_name": "HBoxModel",
      "_view_count": null,
      "_view_module": "@jupyter-widgets/controls",
      "_view_module_version": "1.5.0",
      "_view_name": "HBoxView",
      "box_style": "",
      "children": [
       "IPY_MODEL_adfdf91167464e5183efeb02089b3fbf",
       "IPY_MODEL_94709408bc7347ea970916c3248705bb",
       "IPY_MODEL_8731c6c7f0e7404cac842eea1d1d59bc"
      ],
      "layout": "IPY_MODEL_047167382bc04c2d99d7b55fb3a15a54"
     }
    },
    "72d64d39a42146a19e1d373b6078b281": {
     "model_module": "@jupyter-widgets/base",
     "model_module_version": "1.2.0",
     "model_name": "LayoutModel",
     "state": {
      "_model_module": "@jupyter-widgets/base",
      "_model_module_version": "1.2.0",
      "_model_name": "LayoutModel",
      "_view_count": null,
      "_view_module": "@jupyter-widgets/base",
      "_view_module_version": "1.2.0",
      "_view_name": "LayoutView",
      "align_content": null,
      "align_items": null,
      "align_self": null,
      "border": null,
      "bottom": null,
      "display": null,
      "flex": null,
      "flex_flow": null,
      "grid_area": null,
      "grid_auto_columns": null,
      "grid_auto_flow": null,
      "grid_auto_rows": null,
      "grid_column": null,
      "grid_gap": null,
      "grid_row": null,
      "grid_template_areas": null,
      "grid_template_columns": null,
      "grid_template_rows": null,
      "height": null,
      "justify_content": null,
      "justify_items": null,
      "left": null,
      "margin": null,
      "max_height": null,
      "max_width": null,
      "min_height": null,
      "min_width": null,
      "object_fit": null,
      "object_position": null,
      "order": null,
      "overflow": null,
      "overflow_x": null,
      "overflow_y": null,
      "padding": null,
      "right": null,
      "top": null,
      "visibility": null,
      "width": null
     }
    },
    "8731c6c7f0e7404cac842eea1d1d59bc": {
     "model_module": "@jupyter-widgets/controls",
     "model_module_version": "1.5.0",
     "model_name": "HTMLModel",
     "state": {
      "_dom_classes": [],
      "_model_module": "@jupyter-widgets/controls",
      "_model_module_version": "1.5.0",
      "_model_name": "HTMLModel",
      "_view_count": null,
      "_view_module": "@jupyter-widgets/controls",
      "_view_module_version": "1.5.0",
      "_view_name": "HTMLView",
      "description": "",
      "description_tooltip": null,
      "layout": "IPY_MODEL_9f40dda6e1cc4df9a5c7c4bcc4b9f439",
      "placeholder": "​",
      "style": "IPY_MODEL_9f1dc768751b4cefaa594a254f182e75",
      "value": " 153499/153499 [03:53&lt;00:00, 1328.59it/s]"
     }
    },
    "89b5d649d59440c198c997e6cd68398d": {
     "model_module": "@jupyter-widgets/base",
     "model_module_version": "1.2.0",
     "model_name": "LayoutModel",
     "state": {
      "_model_module": "@jupyter-widgets/base",
      "_model_module_version": "1.2.0",
      "_model_name": "LayoutModel",
      "_view_count": null,
      "_view_module": "@jupyter-widgets/base",
      "_view_module_version": "1.2.0",
      "_view_name": "LayoutView",
      "align_content": null,
      "align_items": null,
      "align_self": null,
      "border": null,
      "bottom": null,
      "display": null,
      "flex": null,
      "flex_flow": null,
      "grid_area": null,
      "grid_auto_columns": null,
      "grid_auto_flow": null,
      "grid_auto_rows": null,
      "grid_column": null,
      "grid_gap": null,
      "grid_row": null,
      "grid_template_areas": null,
      "grid_template_columns": null,
      "grid_template_rows": null,
      "height": null,
      "justify_content": null,
      "justify_items": null,
      "left": null,
      "margin": null,
      "max_height": null,
      "max_width": null,
      "min_height": null,
      "min_width": null,
      "object_fit": null,
      "object_position": null,
      "order": null,
      "overflow": null,
      "overflow_x": null,
      "overflow_y": null,
      "padding": null,
      "right": null,
      "top": null,
      "visibility": null,
      "width": null
     }
    },
    "92016471275947f7af5c1ef166e86611": {
     "model_module": "@jupyter-widgets/base",
     "model_module_version": "1.2.0",
     "model_name": "LayoutModel",
     "state": {
      "_model_module": "@jupyter-widgets/base",
      "_model_module_version": "1.2.0",
      "_model_name": "LayoutModel",
      "_view_count": null,
      "_view_module": "@jupyter-widgets/base",
      "_view_module_version": "1.2.0",
      "_view_name": "LayoutView",
      "align_content": null,
      "align_items": null,
      "align_self": null,
      "border": null,
      "bottom": null,
      "display": null,
      "flex": null,
      "flex_flow": null,
      "grid_area": null,
      "grid_auto_columns": null,
      "grid_auto_flow": null,
      "grid_auto_rows": null,
      "grid_column": null,
      "grid_gap": null,
      "grid_row": null,
      "grid_template_areas": null,
      "grid_template_columns": null,
      "grid_template_rows": null,
      "height": null,
      "justify_content": null,
      "justify_items": null,
      "left": null,
      "margin": null,
      "max_height": null,
      "max_width": null,
      "min_height": null,
      "min_width": null,
      "object_fit": null,
      "object_position": null,
      "order": null,
      "overflow": null,
      "overflow_x": null,
      "overflow_y": null,
      "padding": null,
      "right": null,
      "top": null,
      "visibility": null,
      "width": "20px"
     }
    },
    "94709408bc7347ea970916c3248705bb": {
     "model_module": "@jupyter-widgets/controls",
     "model_module_version": "1.5.0",
     "model_name": "FloatProgressModel",
     "state": {
      "_dom_classes": [],
      "_model_module": "@jupyter-widgets/controls",
      "_model_module_version": "1.5.0",
      "_model_name": "FloatProgressModel",
      "_view_count": null,
      "_view_module": "@jupyter-widgets/controls",
      "_view_module_version": "1.5.0",
      "_view_name": "ProgressView",
      "bar_style": "success",
      "description": "",
      "description_tooltip": null,
      "layout": "IPY_MODEL_89b5d649d59440c198c997e6cd68398d",
      "max": 153499,
      "min": 0,
      "orientation": "horizontal",
      "style": "IPY_MODEL_d187aa0c7fcc471bba4a132166cf6681",
      "value": 153499
     }
    },
    "9ece8493698c43c38731e3c196354482": {
     "model_module": "@jupyter-widgets/base",
     "model_module_version": "1.2.0",
     "model_name": "LayoutModel",
     "state": {
      "_model_module": "@jupyter-widgets/base",
      "_model_module_version": "1.2.0",
      "_model_name": "LayoutModel",
      "_view_count": null,
      "_view_module": "@jupyter-widgets/base",
      "_view_module_version": "1.2.0",
      "_view_name": "LayoutView",
      "align_content": null,
      "align_items": null,
      "align_self": null,
      "border": null,
      "bottom": null,
      "display": null,
      "flex": null,
      "flex_flow": null,
      "grid_area": null,
      "grid_auto_columns": null,
      "grid_auto_flow": null,
      "grid_auto_rows": null,
      "grid_column": null,
      "grid_gap": null,
      "grid_row": null,
      "grid_template_areas": null,
      "grid_template_columns": null,
      "grid_template_rows": null,
      "height": null,
      "justify_content": null,
      "justify_items": null,
      "left": null,
      "margin": null,
      "max_height": null,
      "max_width": null,
      "min_height": null,
      "min_width": null,
      "object_fit": null,
      "object_position": null,
      "order": null,
      "overflow": null,
      "overflow_x": null,
      "overflow_y": null,
      "padding": null,
      "right": null,
      "top": null,
      "visibility": null,
      "width": null
     }
    },
    "9f1dc768751b4cefaa594a254f182e75": {
     "model_module": "@jupyter-widgets/controls",
     "model_module_version": "1.5.0",
     "model_name": "DescriptionStyleModel",
     "state": {
      "_model_module": "@jupyter-widgets/controls",
      "_model_module_version": "1.5.0",
      "_model_name": "DescriptionStyleModel",
      "_view_count": null,
      "_view_module": "@jupyter-widgets/base",
      "_view_module_version": "1.2.0",
      "_view_name": "StyleView",
      "description_width": ""
     }
    },
    "9f40dda6e1cc4df9a5c7c4bcc4b9f439": {
     "model_module": "@jupyter-widgets/base",
     "model_module_version": "1.2.0",
     "model_name": "LayoutModel",
     "state": {
      "_model_module": "@jupyter-widgets/base",
      "_model_module_version": "1.2.0",
      "_model_name": "LayoutModel",
      "_view_count": null,
      "_view_module": "@jupyter-widgets/base",
      "_view_module_version": "1.2.0",
      "_view_name": "LayoutView",
      "align_content": null,
      "align_items": null,
      "align_self": null,
      "border": null,
      "bottom": null,
      "display": null,
      "flex": null,
      "flex_flow": null,
      "grid_area": null,
      "grid_auto_columns": null,
      "grid_auto_flow": null,
      "grid_auto_rows": null,
      "grid_column": null,
      "grid_gap": null,
      "grid_row": null,
      "grid_template_areas": null,
      "grid_template_columns": null,
      "grid_template_rows": null,
      "height": null,
      "justify_content": null,
      "justify_items": null,
      "left": null,
      "margin": null,
      "max_height": null,
      "max_width": null,
      "min_height": null,
      "min_width": null,
      "object_fit": null,
      "object_position": null,
      "order": null,
      "overflow": null,
      "overflow_x": null,
      "overflow_y": null,
      "padding": null,
      "right": null,
      "top": null,
      "visibility": null,
      "width": null
     }
    },
    "a9ad1c47ba4744eaaad443059742db35": {
     "model_module": "@jupyter-widgets/controls",
     "model_module_version": "1.5.0",
     "model_name": "FloatProgressModel",
     "state": {
      "_dom_classes": [],
      "_model_module": "@jupyter-widgets/controls",
      "_model_module_version": "1.5.0",
      "_model_name": "FloatProgressModel",
      "_view_count": null,
      "_view_module": "@jupyter-widgets/controls",
      "_view_module_version": "1.5.0",
      "_view_name": "ProgressView",
      "bar_style": "success",
      "description": "",
      "description_tooltip": null,
      "layout": "IPY_MODEL_92016471275947f7af5c1ef166e86611",
      "max": 1,
      "min": 0,
      "orientation": "horizontal",
      "style": "IPY_MODEL_dbc753abddc8445991a86435910fbdae",
      "value": 1
     }
    },
    "adfdf91167464e5183efeb02089b3fbf": {
     "model_module": "@jupyter-widgets/controls",
     "model_module_version": "1.5.0",
     "model_name": "HTMLModel",
     "state": {
      "_dom_classes": [],
      "_model_module": "@jupyter-widgets/controls",
      "_model_module_version": "1.5.0",
      "_model_name": "HTMLModel",
      "_view_count": null,
      "_view_module": "@jupyter-widgets/controls",
      "_view_module_version": "1.5.0",
      "_view_name": "HTMLView",
      "description": "",
      "description_tooltip": null,
      "layout": "IPY_MODEL_9ece8493698c43c38731e3c196354482",
      "placeholder": "​",
      "style": "IPY_MODEL_02d06e2884af45a98c8a028d0aa75779",
      "value": "100%"
     }
    },
    "c95311ef48f4406095b304778a95aecb": {
     "model_module": "@jupyter-widgets/controls",
     "model_module_version": "1.5.0",
     "model_name": "DescriptionStyleModel",
     "state": {
      "_model_module": "@jupyter-widgets/controls",
      "_model_module_version": "1.5.0",
      "_model_name": "DescriptionStyleModel",
      "_view_count": null,
      "_view_module": "@jupyter-widgets/base",
      "_view_module_version": "1.2.0",
      "_view_name": "StyleView",
      "description_width": ""
     }
    },
    "ce46f2c180d14c6bacdfd764dceef258": {
     "model_module": "@jupyter-widgets/base",
     "model_module_version": "1.2.0",
     "model_name": "LayoutModel",
     "state": {
      "_model_module": "@jupyter-widgets/base",
      "_model_module_version": "1.2.0",
      "_model_name": "LayoutModel",
      "_view_count": null,
      "_view_module": "@jupyter-widgets/base",
      "_view_module_version": "1.2.0",
      "_view_name": "LayoutView",
      "align_content": null,
      "align_items": null,
      "align_self": null,
      "border": null,
      "bottom": null,
      "display": null,
      "flex": null,
      "flex_flow": null,
      "grid_area": null,
      "grid_auto_columns": null,
      "grid_auto_flow": null,
      "grid_auto_rows": null,
      "grid_column": null,
      "grid_gap": null,
      "grid_row": null,
      "grid_template_areas": null,
      "grid_template_columns": null,
      "grid_template_rows": null,
      "height": null,
      "justify_content": null,
      "justify_items": null,
      "left": null,
      "margin": null,
      "max_height": null,
      "max_width": null,
      "min_height": null,
      "min_width": null,
      "object_fit": null,
      "object_position": null,
      "order": null,
      "overflow": null,
      "overflow_x": null,
      "overflow_y": null,
      "padding": null,
      "right": null,
      "top": null,
      "visibility": null,
      "width": null
     }
    },
    "d00ef25ddd2841f2ad7f71998ef5fe7f": {
     "model_module": "@jupyter-widgets/controls",
     "model_module_version": "1.5.0",
     "model_name": "DescriptionStyleModel",
     "state": {
      "_model_module": "@jupyter-widgets/controls",
      "_model_module_version": "1.5.0",
      "_model_name": "DescriptionStyleModel",
      "_view_count": null,
      "_view_module": "@jupyter-widgets/base",
      "_view_module_version": "1.2.0",
      "_view_name": "StyleView",
      "description_width": ""
     }
    },
    "d187aa0c7fcc471bba4a132166cf6681": {
     "model_module": "@jupyter-widgets/controls",
     "model_module_version": "1.5.0",
     "model_name": "ProgressStyleModel",
     "state": {
      "_model_module": "@jupyter-widgets/controls",
      "_model_module_version": "1.5.0",
      "_model_name": "ProgressStyleModel",
      "_view_count": null,
      "_view_module": "@jupyter-widgets/base",
      "_view_module_version": "1.2.0",
      "_view_name": "StyleView",
      "bar_color": null,
      "description_width": ""
     }
    },
    "dbc753abddc8445991a86435910fbdae": {
     "model_module": "@jupyter-widgets/controls",
     "model_module_version": "1.5.0",
     "model_name": "ProgressStyleModel",
     "state": {
      "_model_module": "@jupyter-widgets/controls",
      "_model_module_version": "1.5.0",
      "_model_name": "ProgressStyleModel",
      "_view_count": null,
      "_view_module": "@jupyter-widgets/base",
      "_view_module_version": "1.2.0",
      "_view_name": "StyleView",
      "bar_color": null,
      "description_width": ""
     }
    },
    "f38d3adb3e7c4797beec874066ccd8eb": {
     "model_module": "@jupyter-widgets/controls",
     "model_module_version": "1.5.0",
     "model_name": "HBoxModel",
     "state": {
      "_dom_classes": [],
      "_model_module": "@jupyter-widgets/controls",
      "_model_module_version": "1.5.0",
      "_model_name": "HBoxModel",
      "_view_count": null,
      "_view_module": "@jupyter-widgets/controls",
      "_view_module_version": "1.5.0",
      "_view_name": "HBoxView",
      "box_style": "",
      "children": [
       "IPY_MODEL_652418a65f4e4fd8b9b2f60d8f5edda0",
       "IPY_MODEL_a9ad1c47ba4744eaaad443059742db35",
       "IPY_MODEL_2f70f53cb8b3495eb84b7463456a4340"
      ],
      "layout": "IPY_MODEL_72d64d39a42146a19e1d373b6078b281"
     }
    }
   }
  }
 },
 "nbformat": 4,
 "nbformat_minor": 5
}
