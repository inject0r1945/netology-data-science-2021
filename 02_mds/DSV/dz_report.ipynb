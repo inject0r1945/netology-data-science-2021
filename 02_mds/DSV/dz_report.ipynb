{
 "cells": [
  {
   "cell_type": "markdown",
   "metadata": {},
   "source": [
    "# Домашнее задание \"Теория вероятности. Дискретные Случайные Величины\".\n",
    "\n",
    "## Уровень 0:\n",
    "\n",
    "### Задание 1:\n",
    "\n",
    "Монетку подбрасывают 15 раз, найдите вероятность выпадения простого числа орлов"
   ]
  },
  {
   "cell_type": "code",
   "execution_count": 1,
   "metadata": {},
   "outputs": [],
   "source": [
    "import numpy as np\n",
    "import math\n",
    "import matplotlib.pyplot as plt"
   ]
  },
  {
   "cell_type": "code",
   "execution_count": 2,
   "metadata": {},
   "outputs": [],
   "source": [
    "def bernoulli_probability(p:'0=<float=<1', m:'int>=0', n:'int>=0'):\n",
    "    \"\"\"Поиск вероятности события по формуле Бернулли\n",
    "    \n",
    "    Формула Бернулли находит вероятность появления события А ровно m раз в n независимых испытаниях.\n",
    "    \n",
    "    Параметры\n",
    "    ---------\n",
    "    p : float\n",
    "      Вероятность появления события А\n",
    "    m : int\n",
    "      Число появления события A в n независимых испытаниях\n",
    "    n : int \n",
    "      Число проводимых опытов\n",
    "      \n",
    "    Результат\n",
    "    ---------\n",
    "    pa : float\n",
    "      Вероятность появления события A в n независимых испытаниях\n",
    "    \"\"\"\n",
    "    \n",
    "    if p > 1 or p < 0:\n",
    "        raise ValueError(\"Вероятность p должна быть в промежутке от 0 до 1 включительно\")\n",
    "        \n",
    "    if not isinstance(m, int) or m < 0:\n",
    "        raise ValueError(\"Количество появлений m события А должно быть целым числом и больше или равно 0\")\n",
    "        \n",
    "    if not isinstance(n, int) or m < 0:\n",
    "        raise ValueError(\"Количество испытаний n должно быть целым числом и больше или равно 0\")\n",
    "        \n",
    "    q = 1 - p\n",
    "    \n",
    "    return math.factorial(n) / (math.factorial(n-m) * math.factorial(m)) * p**m * q**(n-m)"
   ]
  },
  {
   "cell_type": "code",
   "execution_count": 3,
   "metadata": {},
   "outputs": [
    {
     "name": "stdout",
     "output_type": "stream",
     "text": [
      "Вероятность выпадение орла 2 раз(а), кол-во опытов 15: 0.003204345703125\n",
      "Вероятность выпадение орла 3 раз(а), кол-во опытов 15: 0.013885498046875\n",
      "Вероятность выпадение орла 5 раз(а), кол-во опытов 15: 0.091644287109375\n",
      "Вероятность выпадение орла 7 раз(а), кол-во опытов 15: 0.196380615234375\n",
      "Вероятность выпадение орла 11 раз(а), кол-во опытов 15: 0.041656494140625\n",
      "Вероятность выпадение орла 13 раз(а), кол-во опытов 15: 0.003204345703125\n"
     ]
    }
   ],
   "source": [
    "# Вероятность выпадания орла\n",
    "p = 1/2\n",
    "# Кол-во опытов\n",
    "n = 15\n",
    "\n",
    "for m in (2,3,5,7,11,13):\n",
    "    print(f'Вероятность выпадение орла {m} раз(а), кол-во опытов {n}: {bernoulli_probability(p, m, n)}')"
   ]
  },
  {
   "cell_type": "markdown",
   "metadata": {},
   "source": [
    "### Задание 2:\n",
    "\n",
    "Создайте свою дискретную случайную величину с не менее чем 10 значениями. Просемплируйте 1000 случайных значений, постройте гистограмму плотности распределения по выборке, посчитайте среднее, дисперсию и медиану."
   ]
  },
  {
   "cell_type": "code",
   "execution_count": 4,
   "metadata": {},
   "outputs": [
    {
     "data": {
      "image/png": "[encoded data removed]",
      "text/plain": [
       "<Figure size 432x288 with 1 Axes>"
      ]
     },
     "metadata": {
      "needs_background": "light"
     },
     "output_type": "display_data"
    },
    {
     "name": "stdout",
     "output_type": "stream",
     "text": [
      "Среднее значение случайной величины X в сэмпле: 438.477\n",
      "Дисперсия случайной величины X в сэмпле: 77922.997471\n",
      "СКО случайной величины X в сэмпле: 279.14691019425595\n",
      "Медиана случайной величины X в сэмпле: 413.0\n"
     ]
    }
   ],
   "source": [
    "rand = np.random.RandomState(seed=42)\n",
    "x = rand.randint(0, 1000, 50)\n",
    "sample = rand.choice(x, size=1000, replace=True)\n",
    "\n",
    "plt.hist(sample)\n",
    "plt.title('Плотность распределения значений сэмпла')\n",
    "plt.xlabel('Значение случайной величины X')\n",
    "plt.show()\n",
    "\n",
    "print('Среднее значение случайной величины X в сэмпле:', np.mean(sample))\n",
    "print('Дисперсия случайной величины X в сэмпле:', np.var(sample))\n",
    "print('СКО случайной величины X в сэмпле:', np.std(sample))\n",
    "print('Медиана случайной величины X в сэмпле:', np.median(sample))"
   ]
  },
  {
   "cell_type": "markdown",
   "metadata": {},
   "source": [
    "## Уровень 1:\n",
    "\n",
    "### Задание 3:\n",
    "\n",
    "Пусть брошены 3 уравновешенные монеты.\n",
    "\n",
    "Рассмотрим 3 события:\n",
    "\n",
    "A1 - монеты 1 и 2 упали одной и той же стороной;\n",
    "\n",
    "A2 - монеты 2 и 3 упали одной и той же стороной;\n",
    "\n",
    "A3 - монеты 1 и 3 упали одной и той же стороной.\n",
    "\n",
    "Покажите, почему эти 3 события (A1, A2, A3) являются попарно независимыми, но не являются независимыми в совокупности.\n",
    "\n",
    "#### Решение:\n",
    "\n",
    "Для события А количество благоприятствующих значений равно 4. Общее количество комбинаций равно $\\overline{A}^3_2 = 2^3 = 8$.\n",
    "Соответственно вероятность $P(A1) = 4/8 = 1/2$\n",
    "\n",
    "Аналогично $P(A2) = 1/2$ и $P(A3) = 1/2$\n",
    "\n",
    "Если предполагаем пересечение событий A1 и A2, то это означает, что у нас на всех монетах выпадут одинаковые стороны. Число благоприятствующих комбинаций равно 2, а общее количество комбинаций равно 8.\n",
    "\n",
    "Тогда вероятность $P(A1A2) = 2/8 = 1/4$, а $P(A1)*P(A2) = 1/2 * 1/2 = 1/4$.\n",
    "Так как $P(A1A2) = P(A1)*P(A2)$, то эта пара событий независима.\n",
    "\n",
    "Расчеты будут аналогичны для пар A1 и A3, A2 и A3. Отсюда следует, что события A1, A2 и A3 попарно независимы.\n",
    "\n",
    "Если предполагаем пересечение событий A1, A2 и A3, то точно так же это означает выпадение одной стороны на всех монетах.\n",
    "\n",
    "Тогда $P(A1A2A3) = 2/8 = 1/4$, а $P(A1)*P(A2)*P(A3) = 1/2 * 1/2 * 1/2 = 1/8$.\n",
    "\n",
    "Так как $P(A1A2A3) \\neq P(A1)*P(A2)*P(A3)$, то делаем вывод о зависимости в совокупности событий A1, A2 и A3,"
   ]
  },
  {
   "cell_type": "markdown",
   "metadata": {},
   "source": [
    "### Задание 4 (формула полной вероятности):\n",
    "\n",
    "В магазин привезли устройства с 3-х разных предприятий.\n",
    "\n",
    "Соотношение устройств следующее: 20% - продукция первого предприятия, 30% - продукция второго предприятия, 50% - продукция третьего предприятия; далее, 10% продукции первого предприятия высшего сорта, на втором предприятии - 5% и на третьем - 20% продукции высшего сорта.\n",
    "\n",
    "Найти вероятность того, что случайно купленная новая продукция окажется высшего сорта.\n",
    "\n",
    "H1 - Продукция из первого предприятия\n",
    "\n",
    "H2 - Продукция из второго предприятия\n",
    "\n",
    "H3 - Продукция из третьего предприятия"
   ]
  },
  {
   "cell_type": "code",
   "execution_count": 5,
   "metadata": {},
   "outputs": [
    {
     "name": "stdout",
     "output_type": "stream",
     "text": [
      "Вероятность того, что случайно купленная новая продукция окажется высшего сорта: 0.135\n"
     ]
    }
   ],
   "source": [
    "# Вероятность поступления продукции с первого завода\n",
    "p_h1 = 0.2\n",
    "# Вероятность поступления продукции со второго завода\n",
    "p_h2 = 0.3\n",
    "# Вероятность поступления продукции с третьего завода\n",
    "p_h3 = 0.5\n",
    "\n",
    "assert p_h1 + p_h2 + p_h3 == 1, \"Сумма гипотез не равна 1\"\n",
    "\n",
    "# Вероятность получения качественной продукции, если она пришла с первого завода\n",
    "p_h1_a = 0.1\n",
    "# Вероятность получения качественной продукции, если она пришла со второго завода\n",
    "p_h2_a = 0.05\n",
    "# Вероятность получения качественной продукции, если она пришла с третьего завода\n",
    "p_h3_a = 0.2\n",
    "\n",
    "p_a = p_h1*p_h1_a + p_h2*p_h2_a + p_h3*p_h3_a\n",
    "print(\"Вероятность того, что случайно купленная новая продукция окажется высшего сорта:\", p_a)"
   ]
  }
 ],
 "metadata": {
  "kernelspec": {
   "display_name": "Python 3",
   "language": "python",
   "name": "python3"
  },
  "language_info": {
   "codemirror_mode": {
    "name": "ipython",
    "version": 3
   },
   "file_extension": ".py",
   "mimetype": "text/x-python",
   "name": "python",
   "nbconvert_exporter": "python",
   "pygments_lexer": "ipython3",
   "version": "3.6.8"
  }
 },
 "nbformat": 4,
 "nbformat_minor": 4
}
